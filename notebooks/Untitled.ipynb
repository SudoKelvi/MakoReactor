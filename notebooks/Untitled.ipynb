{
 "cells": [
  {
   "cell_type": "code",
   "execution_count": 1,
   "id": "d96df539-b5d0-4464-a26f-eb0c2e1d4631",
   "metadata": {},
   "outputs": [
    {
     "name": "stdout",
     "output_type": "stream",
     "text": [
      "/usr/share/kicad/modules/Resistor_SMD.pretty/R_0805_2012Metric.kicad_mod\n",
      "/usr/share/kicad/modules/Resistor_SMD.pretty/R_0805_2012Metric.kicad_mod\n",
      "/usr/share/kicad/modules/Resistor_SMD.pretty/R_0805_2012Metric.kicad_mod\n",
      "/usr/share/kicad/modules/Resistor_SMD.pretty/R_0805_2012Metric.kicad_mod\n",
      "/usr/share/kicad/modules/Resistor_SMD.pretty/R_0805_2012Metric.kicad_mod\n",
      "/usr/share/kicad/modules/Resistor_SMD.pretty/R_0805_2012Metric.kicad_mod\n"
     ]
    }
   ],
   "source": [
    "from numpy import array\n",
    "from pykicad.pcb import *\n",
    "from pykicad.module import *\n",
    "\n",
    "# Define nets\n",
    "vi, vo, gnd = Net('VI'), Net('VO'), Net('GND')\n",
    "\n",
    "# Load footprints\n",
    "r1 = Module.from_library('Resistor_SMD', 'R_0805_2012Metric')\n",
    "r2 = Module.from_library('Resistor_SMD', 'R_0805_2012Metric')\n",
    "\n",
    "# Connect pads\n",
    "r1.pads[0].net = vi\n",
    "r1.pads[1].net = vo\n",
    "r2.pads[0].net = vo\n",
    "r2.pads[1].net = gnd\n",
    "\n",
    "# Place components\n",
    "r1.at = [0, 0]\n",
    "r2.at = [5, 0]\n",
    "\n",
    "# Compute positions\n",
    "start = array(r1.pads[1].at) + array(r1.at)\n",
    "end = array(r2.pads[0].at) + array(r2.at)\n",
    "pos = start + (end - start) / 2\n",
    "\n",
    "# Create vias\n",
    "v1 = Via(at=pos.tolist(), size=.8, drill=.6, net=vo.code)\n",
    "\n",
    "# Create segments\n",
    "s1 = Segment(start=start.tolist(), end=pos.tolist(), net=vo.code)\n",
    "s2 = Segment(start=pos.tolist(), end=end.tolist(), net=vo.code)\n",
    "\n",
    "# Create zones\n",
    "coords = [(0, 0), (10, 0), (10, 10), (0, 10)]\n",
    "gndplane_top = Zone(net_name='GND', layer='F.Cu', polygon=coords, clearance=0.3)\n",
    "\n",
    "\n",
    "layers = [\n",
    "    Layer('F.Cu'),\n",
    "    Layer('Inner1.Cu'),\n",
    "    Layer('Inner2.Cu'),\n",
    "    Layer('B.Cu'),\n",
    "    Layer('Edge.Cuts', type='user')\n",
    "]\n",
    "\n",
    "for layer in ['Mask', 'Paste', 'SilkS', 'CrtYd', 'Fab']:\n",
    "    for side in ['B', 'F']:\n",
    "        layers.append(Layer('%s.%s' % (side, layer), type='user'))\n",
    "\n",
    "nc1 = NetClass('default', trace_width=1, nets=['VI', 'VO', 'GND'])\n",
    "\n",
    "# Create PCB\n",
    "pcb = Pcb()\n",
    "pcb.title = 'A title'\n",
    "pcb.comment1 = 'Comment 1'\n",
    "pcb.page_type = [20, 20]\n",
    "pcb.num_nets = 5\n",
    "pcb.setup = Setup(grid_origin=[10, 10])\n",
    "pcb.layers = layers\n",
    "pcb.modules += [r1, r2]\n",
    "pcb.net_classes += [nc1]\n",
    "pcb.nets += [vi, vo, gnd]\n",
    "pcb.segments += [s1, s2]\n",
    "pcb.vias += [v1]\n",
    "pcb.zones += [gndplane_top]\n",
    "\n",
    "pcb.to_file('project')"
   ]
  },
  {
   "cell_type": "code",
   "execution_count": 2,
   "id": "75135c01-1786-4844-8e43-1d5fa80dc0c9",
   "metadata": {},
   "outputs": [
    {
     "data": {
      "text/plain": [
       "'/usr/share/kicad/modules/'"
      ]
     },
     "execution_count": 2,
     "metadata": {},
     "output_type": "execute_result"
    }
   ],
   "source": [
    "import os\n",
    "\n",
    "os.environ.get(\"KISYSMOD\")"
   ]
  },
  {
   "cell_type": "code",
   "execution_count": 5,
   "id": "899b2c08-2572-4ed7-adcd-4a0639573be8",
   "metadata": {},
   "outputs": [
    {
     "data": {
      "text/plain": [
       "'/mnt/chromeos/MyFiles/repos/pykicad/pykicad/__init__.py'"
      ]
     },
     "execution_count": 5,
     "metadata": {},
     "output_type": "execute_result"
    }
   ],
   "source": [
    "import pykicad\n",
    "pykicad.__file__"
   ]
  },
  {
   "cell_type": "code",
   "execution_count": 6,
   "id": "9de0d72b-12a5-429d-b6bd-368760158f63",
   "metadata": {},
   "outputs": [
    {
     "data": {
      "text/plain": [
       "[(pad {'name': '1', 'type': 'smd', 'shape': 'roundrect', 'size': [1.025, 1.4], 'at': [-0.9125, 0.0], 'roundrect_rratio': 0.243902, 'layers': ['F.Cu', 'F.Mask', 'F.Paste'], 'net': (net {'code': 7, 'name': 'VI'})}),\n",
       " (pad {'name': '2', 'type': 'smd', 'shape': 'roundrect', 'size': [1.025, 1.4], 'at': [0.9125, 0.0], 'roundrect_rratio': 0.243902, 'layers': ['F.Cu', 'F.Mask', 'F.Paste'], 'net': (net {'code': 8, 'name': 'VO'})})]"
      ]
     },
     "execution_count": 6,
     "metadata": {},
     "output_type": "execute_result"
    }
   ],
   "source": [
    "r1.pads"
   ]
  },
  {
   "cell_type": "code",
   "execution_count": null,
   "id": "41699df8-bb9c-40f4-a772-14a23c82daca",
   "metadata": {},
   "outputs": [],
   "source": []
  }
 ],
 "metadata": {
  "kernelspec": {
   "display_name": "Python 3 (ipykernel)",
   "language": "python",
   "name": "python3"
  },
  "language_info": {
   "codemirror_mode": {
    "name": "ipython",
    "version": 3
   },
   "file_extension": ".py",
   "mimetype": "text/x-python",
   "name": "python",
   "nbconvert_exporter": "python",
   "pygments_lexer": "ipython3",
   "version": "3.9.9"
  }
 },
 "nbformat": 4,
 "nbformat_minor": 5
}
