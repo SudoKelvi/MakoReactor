{
 "cells": [
  {
   "cell_type": "code",
   "execution_count": 1,
   "id": "2fe4061c-5345-4249-b393-bd7a5c0ce9c8",
   "metadata": {},
   "outputs": [
    {
     "name": "stdout",
     "output_type": "stream",
     "text": [
      "Overwriting auto display for cadquery Workplane and Shape\n",
      "Paramater alpha is not a valid argument for show()\n",
      "Paramater pinning is not a valid argument for show()\n"
     ]
    },
    {
     "name": "stderr",
     "output_type": "stream",
     "text": [
      "/home/otacon/anaconda3/envs/cadquery/lib/python3.9/site-packages/jupyter_client/session.py:716: UserWarning: Message serialization failed with:\n",
      "Out of range float values are not JSON compliant\n",
      "Supporting this message is deprecated in jupyter-client 7, please make sure your message is JSON-compliant\n",
      "  content = self.pack(content)\n"
     ]
    },
    {
     "data": {
      "text/html": [
       "<style>\n",
       ".scroll-area {\n",
       "    overflow: scroll !important;\n",
       "    border: unset !important;\n",
       "}\n",
       "\n",
       ".mac-scrollbar::-webkit-scrollbar {\n",
       "    width: 5px !important;\n",
       "    height: 5px !important;\n",
       "}\n",
       "\n",
       ".mac-scrollbar::-webkit-scrollbar-track {\n",
       "    background-color: transparent !important;\n",
       "}\n",
       "\n",
       ".mac-scrollbar .widget-html-content {\n",
       "    overflow-x: visible;\n",
       "    overflow-y: visible;\n",
       "}\n",
       "\n",
       ".tab-content-no-padding .widget-tab-contents {\n",
       "    overflow-x: visible !important;\n",
       "    overflow-y: visible !important;\n",
       "    padding-bottom: 0px !important;\n",
       "}\n",
       "\n",
       ".view_renderer {\n",
       "    border: 1px solid var(--jp-border-color1);\n",
       "    margin-top: 3px;\n",
       "    margin-left: 2px;\n",
       "}\n",
       "\n",
       ".view_tree {\n",
       "    padding: 0px !important;\n",
       "}\n",
       "\n",
       ".view_axes {\n",
       "    width: 60px !important;\n",
       "    margin-left: 5px !important;\n",
       "}\n",
       "\n",
       ".view_zero {\n",
       "    width: 55px !important;\n",
       "}\n",
       "\n",
       ".view_grid {\n",
       "    width: 56px !important;\n",
       "}\n",
       "\n",
       ".view_ortho {\n",
       "    width: 64px !important;\n",
       "}\n",
       "\n",
       ".view_transparent {\n",
       "    width: 125px !important;\n",
       "}\n",
       "\n",
       ".view_black_edges {\n",
       "    width: 105px !important;\n",
       "}\n",
       "\n",
       ".view_button {\n",
       "    padding: 0px !important;\n",
       "}\n",
       "\n",
       ".view_button>img {\n",
       "    height: 28px;\n",
       "    width: 36px;\n",
       "}\n",
       "\n",
       ".node_entry_wrap {\n",
       "    white-space: pre;\n",
       "}\n",
       "\n",
       ".node_entry {\n",
       "    white-space: nowrap;\n",
       "    padding-top: 4px;\n",
       "}\n",
       "\n",
       ".t-caret {\n",
       "    cursor: pointer;\n",
       "    -webkit-user-select: none;\n",
       "    /* Safari 3.1+ */\n",
       "    -moz-user-select: none;\n",
       "    /* Firefox 2+ */\n",
       "    -ms-user-select: none;\n",
       "    /* IE 10+ */\n",
       "    user-select: none;\n",
       "}\n",
       "\n",
       ".t-caret-down::before {\n",
       "    -ms-transform: rotate(90deg);\n",
       "    /* IE 9 */\n",
       "    -webkit-transform: rotate(90deg);\n",
       "    /* Safari */\n",
       "    transform: rotate(90deg);\n",
       "}\n",
       "\n",
       ".toplevel {\n",
       "    list-style-type: none;\n",
       "    padding-inline-start: 0px;\n",
       "}\n",
       "\n",
       ".nested {\n",
       "    display: none;\n",
       "    list-style-type: none;\n",
       "    padding-inline-start: 16px;\n",
       "}\n",
       "\n",
       ".active {\n",
       "    display: block;\n",
       "}\n",
       "\n",
       ".icon {\n",
       "    width: 28px !important;\n",
       "    height: 22px !important;\n",
       "    padding-right: 2px;\n",
       "    vertical-align: middle;\n",
       "}\n",
       "\n",
       ".indent {\n",
       "    margin-left: 12px;\n",
       "}\n",
       "\n",
       ".tree_label {\n",
       "    padding-left: 2px;\n",
       "    font-size: 14px;\n",
       "}\n",
       "\n",
       ".scroll_down {\n",
       "    display: flex;\n",
       "    flex-direction: column-reverse;\n",
       "}\n",
       "\n",
       ".small_table {\n",
       "    line-height: 14px;\n",
       "}\n",
       "\n",
       ".monospace select {\n",
       "    font-family: monospace;\n",
       "}\n",
       "\n",
       "        .t-caret::before {\n",
       "            content: u\"▶\";\n",
       "            font-size: 12px;\n",
       "            color: #e0e0e0;\n",
       "            display: inline-block;\n",
       "            margin-right: 2px;\n",
       "        }\n",
       "\n",
       "        .mac-scrollbar::-webkit-scrollbar-thumb {\n",
       "            background-color: rgba(255, 255, 255, 0.3) !important;\n",
       "            border-radius: 100px !important;\n",
       "        }\n",
       "\n",
       "        .mac-scrollbar::-webkit-scrollbar-thumb:hover {\n",
       "            background: rgba(255, 255, 255, 0.5) !important;\n",
       "        }\n",
       "\n",
       "        .mac-scrollbar::-webkit-scrollbar-thumb:active {\n",
       "            background: #e0e0e0 !important;\n",
       "        }\n",
       "\n",
       "        .mac-scrollbar::-webkit-scrollbar-corner {\n",
       "            background: #212121;\n",
       "        }\n",
       "\n",
       "        .view_output {\n",
       "            border: 1px solid var(--jp-border-color1);\n",
       "            margin: 2px 2px 2px 2px !important;\n",
       "            padding-right: 1px !important;\n",
       "            background-color: #212121;\n",
       "        }\n",
       "    </style>"
      ],
      "text/plain": [
       "<IPython.core.display.HTML object>"
      ]
     },
     "metadata": {},
     "output_type": "display_data"
    }
   ],
   "source": [
    "import cadquery as cq\n",
    "from jupyter_cadquery.cadquery import (PartGroup, Part, Edges, Faces, Vertices, show)\n",
    "from jupyter_cadquery import set_sidecar, set_defaults\n",
    "\n",
    "import alphashape as alph\n",
    "\n",
    "import numpy as np\n",
    "from scipy.ndimage import affine_transform\n",
    "\n",
    "import geojson \n",
    "\n",
    "import makoreactor as mr\n",
    "\n",
    "set_defaults(default_color=\"#92baff\", alpha=0.5, black_edges=True, axes=False, pinning=True, grid=False, theme=\"dark\", axes0=True, ortho=True, transparent=True)\n",
    "set_sidecar(\"CadQuery\", init=True)\n",
    "    \n",
    "in2mm = lambda x: x*25.4\n",
    "\n",
    "lzip = lambda *args, **kwargs: list(zip(*args, **kwargs))\n",
    "\n",
    "def get_poly_verts(poly):\n",
    "    verts = poly.vertices().vals()\n",
    "    coords_x = [v.X for v in verts]\n",
    "    coords_y = [v.Y for v in verts]\n",
    "    return coords_x, coords_y\n"
   ]
  },
  {
   "cell_type": "code",
   "execution_count": null,
   "id": "09711c8f-6eab-4c00-9094-dc3c9464f36e",
   "metadata": {},
   "outputs": [],
   "source": []
  },
  {
   "cell_type": "code",
   "execution_count": 2,
   "id": "2de17e1a-eb54-4f5c-98a6-4fa54c4cd2eb",
   "metadata": {},
   "outputs": [
    {
     "name": "stdout",
     "output_type": "stream",
     "text": [
      "[-20.  20.]\n",
      "BRep_API: command not done\n",
      "Done, using side car 'Cadquery'\n"
     ]
    }
   ],
   "source": [
    "from affine import Affine\n",
    "\n",
    "mr.fgcF1CapLayout.layout_affine = Affine.translation(0, -13)\n",
    "fgc = mr.f1CapMako1.set(width=in2mm(11.8), hole_deltax=300, n_modelu=2, height=in2mm(5), layout=mr.fgcF1CapLayout)\n",
    "fgc.generate()"
   ]
  },
  {
   "cell_type": "code",
   "execution_count": 6,
   "id": "e1cc20ff-42c0-43e0-8ddf-58c3394fa240",
   "metadata": {},
   "outputs": [],
   "source": [
    "switchplate = fgc.parts[2].generate()"
   ]
  },
  {
   "cell_type": "code",
   "execution_count": 7,
   "id": "1b8daa9c-cade-4b08-a2b6-69a773103e86",
   "metadata": {},
   "outputs": [
    {
     "name": "stdout",
     "output_type": "stream",
     "text": [
      "Done, using side car 'Cadquery'\n"
     ]
    },
    {
     "data": {
      "text/plain": [
       "<jupyter_cadquery.cad_display.CadqueryDisplay at 0x788be1006040>"
      ]
     },
     "execution_count": 7,
     "metadata": {},
     "output_type": "execute_result"
    }
   ],
   "source": [
    "brook = cq.Workplane(\"XY\").rect(100,50).translate((-45,0)).extrude(10, both=True).translate((-75,-25))\n",
    "final_parts = [\n",
    "    fgc.parts[0].generate(),\n",
    "    fgc.parts[1].generate(),\n",
    "    fgc.parts[2].generate().cut(brook),\n",
    "    fgc.parts[3].generate().cut(brook),\n",
    "    fgc.parts[4].generate()\n",
    "]\n",
    "\n",
    "show(*final_parts)"
   ]
  },
  {
   "cell_type": "code",
   "execution_count": 6,
   "id": "d8caed5f",
   "metadata": {},
   "outputs": [],
   "source": [
    "!mkdir mako1_fgc "
   ]
  },
  {
   "cell_type": "code",
   "execution_count": 7,
   "id": "dffd91db-b4b8-458f-8cc0-9fef4d7b8af9",
   "metadata": {},
   "outputs": [],
   "source": [
    "from cadquery import exporters\n",
    "\n",
    "for i,p in enumerate(final_parts):\n",
    "    exporters.export(p.edges(\">Z\"), f\"mako1_fgc/layer{i}.dxf\")"
   ]
  },
  {
   "cell_type": "code",
   "execution_count": 2,
   "id": "76b4a5e7-8ad8-4261-8bda-7897797e042b",
   "metadata": {},
   "outputs": [
    {
     "ename": "NameError",
     "evalue": "name 'faceplate' is not defined",
     "output_type": "error",
     "traceback": [
      "\u001b[0;31m---------------------------------------------------------------------------\u001b[0m",
      "\u001b[0;31mNameError\u001b[0m                                 Traceback (most recent call last)",
      "\u001b[0;32m/tmp/ipykernel_6787/1779975611.py\u001b[0m in \u001b[0;36m<module>\u001b[0;34m\u001b[0m\n\u001b[1;32m      2\u001b[0m          \u001b[0;34m.\u001b[0m\u001b[0mtext\u001b[0m\u001b[0;34m(\u001b[0m\u001b[0;34m\"MAKO\"\u001b[0m\u001b[0;34m,\u001b[0m \u001b[0;36m70\u001b[0m\u001b[0;34m,\u001b[0m \u001b[0;36m10\u001b[0m\u001b[0;34m,\u001b[0m \u001b[0mkind\u001b[0m\u001b[0;34m=\u001b[0m\u001b[0;34m'italic'\u001b[0m\u001b[0;34m,\u001b[0m\u001b[0mhalign\u001b[0m\u001b[0;34m=\u001b[0m\u001b[0;34m'center'\u001b[0m\u001b[0;34m,\u001b[0m \u001b[0mvalign\u001b[0m\u001b[0;34m=\u001b[0m\u001b[0;34m'center'\u001b[0m\u001b[0;34m,\u001b[0m\u001b[0mfontPath\u001b[0m\u001b[0;34m=\u001b[0m\u001b[0;34m'/mnt/chromeos/MyFiles/Downloads/Oswald-Bold.ttf'\u001b[0m\u001b[0;34m)\u001b[0m\u001b[0;34m\u001b[0m\u001b[0;34m\u001b[0m\u001b[0m\n\u001b[1;32m      3\u001b[0m          \u001b[0;34m.\u001b[0m\u001b[0mrotate\u001b[0m\u001b[0;34m(\u001b[0m\u001b[0;34m(\u001b[0m\u001b[0;36m0\u001b[0m\u001b[0;34m,\u001b[0m \u001b[0;36m0\u001b[0m\u001b[0;34m,\u001b[0m \u001b[0;36m1\u001b[0m\u001b[0;34m)\u001b[0m\u001b[0;34m,\u001b[0m \u001b[0;34m(\u001b[0m\u001b[0;36m0\u001b[0m\u001b[0;34m,\u001b[0m \u001b[0;36m0\u001b[0m\u001b[0;34m,\u001b[0m \u001b[0;36m0\u001b[0m\u001b[0;34m)\u001b[0m\u001b[0;34m,\u001b[0m \u001b[0;36m90\u001b[0m\u001b[0;34m)\u001b[0m\u001b[0;34m\u001b[0m\u001b[0;34m\u001b[0m\u001b[0m\n\u001b[0;32m----> 4\u001b[0;31m          \u001b[0;34m.\u001b[0m\u001b[0mtranslate\u001b[0m\u001b[0;34m(\u001b[0m\u001b[0;34m(\u001b[0m\u001b[0;34m-\u001b[0m\u001b[0;34m(\u001b[0m\u001b[0mfaceplate\u001b[0m\u001b[0;34m.\u001b[0m\u001b[0mwidth\u001b[0m\u001b[0;34m/\u001b[0m\u001b[0;36m2\u001b[0m\u001b[0;34m)\u001b[0m\u001b[0;34m+\u001b[0m\u001b[0;36m40\u001b[0m\u001b[0;34m,\u001b[0m \u001b[0;36m5\u001b[0m\u001b[0;34m,\u001b[0m \u001b[0;34m-\u001b[0m\u001b[0;36m2.5\u001b[0m\u001b[0;34m)\u001b[0m\u001b[0;34m)\u001b[0m\u001b[0;34m\u001b[0m\u001b[0;34m\u001b[0m\u001b[0m\n\u001b[0m\u001b[1;32m      5\u001b[0m )\n\u001b[1;32m      6\u001b[0m \u001b[0mtext\u001b[0m \u001b[0;34m=\u001b[0m \u001b[0mtext\u001b[0m\u001b[0;34m.\u001b[0m\u001b[0medges\u001b[0m\u001b[0;34m(\u001b[0m\u001b[0;34m\"|Z\"\u001b[0m\u001b[0;34m)\u001b[0m\u001b[0;34m.\u001b[0m\u001b[0mfillet\u001b[0m\u001b[0;34m(\u001b[0m\u001b[0;36m1\u001b[0m\u001b[0;34m)\u001b[0m\u001b[0;34m\u001b[0m\u001b[0;34m\u001b[0m\u001b[0m\n",
      "\u001b[0;31mNameError\u001b[0m: name 'faceplate' is not defined"
     ]
    }
   ],
   "source": [
    "text = (cq.Workplane(\"XY\")\n",
    "         .text(\"MAKO\", 70, 10, kind='italic',halign='center', valign='center',fontPath='/mnt/chromeos/MyFiles/Downloads/Oswald-Bold.ttf')\n",
    "         .rotate((0, 0, 1), (0, 0, 0), 90)\n",
    "         .translate((-(faceplate.width/2)+40, 5, -2.5))\n",
    ")\n",
    "text = text.edges(\"|Z\").fillet(1)\n",
    "# text.\n",
    "\n",
    "show(faceplate_part.union(text).edges(\">Z or >>Z[0]\").edges())"
   ]
  },
  {
   "cell_type": "code",
   "execution_count": 5,
   "id": "7a59a394-d697-4c47-97e4-da1b9a170c1b",
   "metadata": {},
   "outputs": [
    {
     "name": "stdout",
     "output_type": "stream",
     "text": [
      "Done, using side car 'Cadquery'\n"
     ]
    },
    {
     "data": {
      "text/plain": [
       "<jupyter_cadquery.cad_display.CadqueryDisplay at 0x7c5d2958aca0>"
      ]
     },
     "execution_count": 5,
     "metadata": {},
     "output_type": "execute_result"
    }
   ],
   "source": [
    "text = (cq.Workplane(\"XY\")\n",
    "         .text(\"MAKO\", 130, 10,halign='center', valign='center',fontPath='/mnt/chromeos/MyFiles/Downloads/Oswald-Bold.ttf')\n",
    ")\n",
    "text = text.edges(\"|Z\").fillet(1)\n",
    "show(faceplate_part, text)"
   ]
  },
  {
   "cell_type": "code",
   "execution_count": 29,
   "id": "5cc4dfc2-31f6-4f33-9c39-ab41c06b96e4",
   "metadata": {},
   "outputs": [
    {
     "data": {
      "text/plain": [
       "(KeycapFaceplate(width=355.59999999999997, height=152.39999999999998, depth=3.175, hole_diameter=10, hole_offset=25, hole_deltax=275, hole_deltay=275, fillet_radius=8, keycap_dimensions=(20.5, 20.5), keycap_fillet_radius=0.1, layout=<makogen.layouts.CircleCapLeverless object at 0x7916d7b78bb0>),)"
      ]
     },
     "execution_count": 29,
     "metadata": {},
     "output_type": "execute_result"
    }
   ],
   "source": [
    "faceplate"
   ]
  },
  {
   "cell_type": "code",
   "execution_count": 57,
   "id": "b5dd7668-de13-4c76-8015-beae2d92347e",
   "metadata": {},
   "outputs": [
    {
     "name": "stdout",
     "output_type": "stream",
     "text": [
      "Done, using side car 'Cadquery'\n"
     ]
    }
   ],
   "source": [
    "val = mg.KeycapLayout.geom.extrude(5)\n",
    "val"
   ]
  },
  {
   "cell_type": "code",
   "execution_count": 58,
   "id": "0d442cd1-492f-442f-a537-6001fc18a8f7",
   "metadata": {},
   "outputs": [],
   "source": [
    "pico = cq.Workplane(\"XY\").rect(21, 51).extrude(1).rect(11.4, 47, forConstruction=True).vertices().circle(2.1/2).cutThruAll()"
   ]
  },
  {
   "cell_type": "code",
   "execution_count": 59,
   "id": "9666de21-1d7f-4c2e-888b-0c7b0f654821",
   "metadata": {},
   "outputs": [
    {
     "name": "stdout",
     "output_type": "stream",
     "text": [
      "Done, using side car 'Cadquery'\n"
     ]
    }
   ],
   "source": [
    "pico"
   ]
  },
  {
   "cell_type": "code",
   "execution_count": 426,
   "id": "3c1d137c-12f6-4955-bb7a-43e10f0a9e7b",
   "metadata": {},
   "outputs": [
    {
     "name": "stdout",
     "output_type": "stream",
     "text": [
      "Done, using side car 'Cadquery'\n"
     ]
    },
    {
     "data": {
      "text/plain": [
       "<jupyter_cadquery.cad_display.CadqueryDisplay at 0x788bc858aa00>"
      ]
     },
     "execution_count": 426,
     "metadata": {},
     "output_type": "execute_result"
    }
   ],
   "source": [
    "dimensions = (21, 52.3, 3.6)\n",
    "\n",
    "pitch = 2.54\n",
    "pitch_wall_thickness = 0.5\n",
    "\n",
    "pcb_thickness = 1\n",
    "\n",
    "pcb_offset_x = 5\n",
    "pcb_offset_y = 10\n",
    "pcb_offset_z = 0\n",
    "peg_len = 2.5\n",
    "\n",
    "wall_thickness = 2\n",
    "bottom_thickness = .5\n",
    "\n",
    "width = dimensions[0] + pcb_offset_x + wall_thickness\n",
    "length = dimensions[1] + pcb_offset_y\n",
    "depth  = dimensions[2] + peg_len + (bottom_thickness) + pcb_offset_z \n",
    "\n",
    "pico_holder = cq.Workplane(\"XY\").box(width, length, depth)\n",
    "cavity = (cq.Workplane(\"XY\")\n",
    "          .box(width-(wall_thickness*2), \n",
    "               length, \n",
    "               depth).translate((0, 0, bottom_thickness))\n",
    ")\n",
    "\n",
    "pico_holder = pico_holder.cut(cavity).translate((0,0,depth/2))\n",
    "\n",
    "pico_holder = (\n",
    "    pico_holder\n",
    "# .edges(\"|Z and (<<Y[2] or >>Y[2])\")\n",
    ".edges(\"|Y and <<Z[-2]\").fillet(2)\n",
    ")\n",
    "\n",
    "# create wire holes\n",
    "wire_centers = np.arange(-dimensions[1]/2, dimensions[1]/2, pitch)\n",
    "wire_verts = list(zip([0]*len(wire_centers), wire_centers))\n",
    "\n",
    "wire_side_gaps = (cq.Workplane(\"XY\")\n",
    "                  .pushPoints(wire_verts)\n",
    "                  .rect(width+10, pitch-pitch_wall_thickness)\n",
    "                  .extrude(dimensions[2])\n",
    "                  )\n",
    "\n",
    "wire_side_gaps = wire_side_gaps.translate((0, 0, bottom_thickness))\n",
    "# wire_side_gaps = (\n",
    "#     cq.Workplane(\"XY\")\n",
    "#     .box(width, dimensions[1], dimensions[2])\n",
    "#     .translate((0,0,(depth/4) + bottom_thickness*2))\n",
    "# )\n",
    "\n",
    "pico_holder = pico_holder.cut(wire_side_gaps)\n",
    "\n",
    "show(pico_holder)"
   ]
  },
  {
   "cell_type": "code",
   "execution_count": 427,
   "id": "366f0290-da7b-40ac-a73b-a35eb7474680",
   "metadata": {},
   "outputs": [
    {
     "data": {
      "text/plain": [
       "6.6"
      ]
     },
     "execution_count": 427,
     "metadata": {},
     "output_type": "execute_result"
    }
   ],
   "source": [
    "depth"
   ]
  },
  {
   "cell_type": "code",
   "execution_count": 428,
   "id": "2be1f982-7057-4b08-9686-349b8d0359a2",
   "metadata": {},
   "outputs": [
    {
     "name": "stdout",
     "output_type": "stream",
     "text": [
      "Done, using side car 'Cadquery'\n"
     ]
    }
   ],
   "source": [
    "# pico_holder = cq.Workplane(\"XY\").box(dimensions[0], dimensions[1], bottom_thickness).edges(\"|Z\").fillet(4)\n",
    "feet = (cq.Workplane(\"XY\").rect(11.4, 47, forConstruction=True)\n",
    "        .vertices().circle(1.75).extrude(dimensions[2]+pcb_offset_z-pcb_thickness)\n",
    "        .faces(\">Z\").circle(.9).extrude(peg_len)\n",
    "        .translate((0,0,bottom_thickness))\n",
    "       )\n",
    "\n",
    "pico_holder.add(feet)"
   ]
  },
  {
   "cell_type": "code",
   "execution_count": null,
   "id": "5c38fb81-53be-48b2-a32a-6c43d629b3d3",
   "metadata": {},
   "outputs": [],
   "source": []
  },
  {
   "cell_type": "code",
   "execution_count": 387,
   "id": "d4ba59c7-0d3a-4aa4-ae53-d3d8e2efa110",
   "metadata": {},
   "outputs": [],
   "source": [
    "from cadquery import exporters\n",
    "exporters.export(pico_holder, \"artifacts/pico_holder.stl\")"
   ]
  },
  {
   "cell_type": "code",
   "execution_count": 8,
   "id": "0e5ae76f-48ef-4ba6-93e3-9f8e7286eb58",
   "metadata": {},
   "outputs": [
    {
     "name": "stdout",
     "output_type": "stream",
     "text": [
      "called\n",
      "Done, using side car 'Cadquery'\n"
     ]
    }
   ],
   "source": [
    "from affine import Affine\n",
    "from dataclasses import dataclass\n",
    "\n",
    "    \n",
    "one_thumb_fgc = mg.FgcLeverless()\n",
    "\n",
    "(cq.Workplane(\"XY\")\n",
    " .rect(mg.in2mm(13.5), mg.in2mm(5.75))\n",
    " .extrude(5).edges(\"|Z\")\n",
    " .fillet(10)\n",
    " .cut(one_thumb_fgc.geom.extrude(5)) \n",
    ")"
   ]
  },
  {
   "cell_type": "code",
   "execution_count": null,
   "id": "41010636-a08e-44ab-89e4-2a42d4ed3bca",
   "metadata": {},
   "outputs": [],
   "source": []
  },
  {
   "cell_type": "code",
   "execution_count": 2,
   "id": "28ac721a-d553-4f3c-8d6c-03a8c16c0d58",
   "metadata": {},
   "outputs": [
    {
     "name": "stdout",
     "output_type": "stream",
     "text": [
      "Done, using side car 'Cadquery'\n"
     ]
    }
   ],
   "source": []
  },
  {
   "cell_type": "code",
   "execution_count": 7,
   "id": "8f37c6ef-22ab-40b4-aeef-168eb1becb69",
   "metadata": {},
   "outputs": [
    {
     "name": "stdout",
     "output_type": "stream",
     "text": [
      "Done, using side car 'Cadquery'\n"
     ]
    }
   ],
   "source": [
    "mg.fgcLayout\n",
    "mg.mako1.set(width=in2mm(12), height=in2mm(5), layout=mg.fgcF1CapLayout).generate()"
   ]
  },
  {
   "cell_type": "code",
   "execution_count": null,
   "id": "919b9203-9491-4125-a30f-2331845916ea",
   "metadata": {},
   "outputs": [],
   "source": [
    "mako1.parts[2].layout"
   ]
  },
  {
   "cell_type": "code",
   "execution_count": 6,
   "id": "9108f9ba-c733-4b84-8d29-9cce5944bd30",
   "metadata": {},
   "outputs": [],
   "source": [
    "from affine import Affine\n",
    "\n",
    "mg.OneThumbFgcLayout.misc_affine = Affine.translation(-95, 57)"
   ]
  },
  {
   "cell_type": "code",
   "execution_count": 4,
   "id": "bfb5201d-727f-4efd-a974-2e87ac83f118",
   "metadata": {},
   "outputs": [
    {
     "name": "stdout",
     "output_type": "stream",
     "text": [
      "Done, using side car 'Cadquery'\n"
     ]
    }
   ],
   "source": [
    "\n",
    "b = mg.Base(depth=in2mm(1/8), hole_diameter=10, height=in2mm(8)).create()\n",
    "r = cq.Workplane(\"XY\").pushPoints(mg.OneThumbFgcLayout.layout).rect(14,14).extrude(10, both=True)\n",
    "b.cut(r)"
   ]
  },
  {
   "cell_type": "code",
   "execution_count": 4,
   "id": "8908486f-6bcf-491c-8328-eb3e86401b37",
   "metadata": {},
   "outputs": [],
   "source": [
    "# import json\n",
    "# j = str(assembly.dump())\n",
    "# j.replace(\" \", \"\")"
   ]
  },
  {
   "cell_type": "code",
   "execution_count": 10,
   "id": "b4b724f7-6a95-4960-bb1d-e65f16c33de2",
   "metadata": {},
   "outputs": [
    {
     "data": {
      "text/plain": [
       "'CircleCapLeverless'"
      ]
     },
     "execution_count": 10,
     "metadata": {},
     "output_type": "execute_result"
    }
   ],
   "source": [
    "from dataclasses import asdict\n",
    "str(mg.F1CapLayout)"
   ]
  },
  {
   "cell_type": "code",
   "execution_count": null,
   "id": "e9b753cd-b637-4f49-812c-e8e3012928af",
   "metadata": {},
   "outputs": [],
   "source": [
    "import zlib\n",
    "\n",
    "a = \"this string needs compressing\"\n",
    "a = zlib.compress(a.encode())\n",
    "print(zlib.decompress(a).decode())  # outputs original contents of a"
   ]
  },
  {
   "cell_type": "code",
   "execution_count": null,
   "id": "b194d25d-f8ad-4906-8544-9567c9642315",
   "metadata": {},
   "outputs": [],
   "source": []
  },
  {
   "cell_type": "code",
   "execution_count": null,
   "id": "5e8642d1-7b39-45ed-ae8d-09d4c7745a1f",
   "metadata": {},
   "outputs": [],
   "source": []
  },
  {
   "cell_type": "code",
   "execution_count": 15,
   "id": "c5b5ad03-d418-4db5-ae80-261683e8bb34",
   "metadata": {},
   "outputs": [
    {
     "data": {
      "text/plain": [
       "\u001b[0;31mSignature:\u001b[0m \u001b[0masdict\u001b[0m\u001b[0;34m(\u001b[0m\u001b[0mobj\u001b[0m\u001b[0;34m,\u001b[0m \u001b[0;34m*\u001b[0m\u001b[0;34m,\u001b[0m \u001b[0mdict_factory\u001b[0m\u001b[0;34m=\u001b[0m\u001b[0;34m<\u001b[0m\u001b[0;32mclass\u001b[0m \u001b[0;34m'dict'\u001b[0m\u001b[0;34m>\u001b[0m\u001b[0;34m)\u001b[0m\u001b[0;34m\u001b[0m\u001b[0;34m\u001b[0m\u001b[0m\n",
       "\u001b[0;31mDocstring:\u001b[0m\n",
       "Return the fields of a dataclass instance as a new dictionary mapping\n",
       "field names to field values.\n",
       "\n",
       "Example usage:\n",
       "\n",
       "  @dataclass\n",
       "  class C:\n",
       "      x: int\n",
       "      y: int\n",
       "\n",
       "  c = C(1, 2)\n",
       "  assert asdict(c) == {'x': 1, 'y': 2}\n",
       "\n",
       "If given, 'dict_factory' will be used instead of built-in dict.\n",
       "The function applies recursively to field values that are\n",
       "dataclass instances. This will also look into built-in containers:\n",
       "tuples, lists, and dicts.\n",
       "\u001b[0;31mFile:\u001b[0m      ~/anaconda3/envs/cadquery/lib/python3.9/dataclasses.py\n",
       "\u001b[0;31mType:\u001b[0m      function\n"
      ]
     },
     "metadata": {},
     "output_type": "display_data"
    }
   ],
   "source": [
    "from dataclasses import asdict\n",
    "asdict?"
   ]
  },
  {
   "cell_type": "code",
   "execution_count": 19,
   "id": "b19a4648-9aac-4599-9df1-b2554529ecb7",
   "metadata": {},
   "outputs": [],
   "source": [
    "# len(s), len(assembly.dumps())"
   ]
  },
  {
   "cell_type": "code",
   "execution_count": 20,
   "id": "c689b902-d666-4d70-ba0a-151dc7c75302",
   "metadata": {},
   "outputs": [],
   "source": [
    "# zlib.decompress(bytes.fromhex(s))"
   ]
  },
  {
   "cell_type": "code",
   "execution_count": 21,
   "id": "a5715a0a-eb9c-49f9-b894-62fd03e951f9",
   "metadata": {},
   "outputs": [],
   "source": [
    "# cardboardmx = PartGroup(\n",
    "#     [\n",
    "#         # Part(cq.importers.importsvg('/mnt/chromeos/MyFiles/Downloads/3_SwitchPlate_v2.svg').rotateAboutCenter((0,0,1), 180).translate((223.1, -181.25, 0)) ),\n",
    "#         Part(base, \"bottom\"),\n",
    "#         # Part(wiring_cavity.translate((0,0,depthmm*1)), \"pcb_holder2\"),\n",
    "#         Part(wiring_cavity.translate((0,0,depthmm*1)), \"pcb_holder\", color=\"black\"),\n",
    "#         Part(switch_plate.translate((0,0,depthmm*2)), \"switchplate2\", color=\"black\"),\n",
    "#         Part(f1cap_faceplate.translate((0,0,depthmm*3)), \"faceplate1\"),\n",
    "#         # Part(dowel.translate((widthmm/2-dowel_width/4,heightmm/2-dowel_offset/2, 10)), \"dowel\")\n",
    "\n",
    "#     ],\n",
    "#     \"carboardMX\"\n",
    "# )\n",
    "\n",
    "# show(cardboardmx, default_color=\"blue\")"
   ]
  },
  {
   "cell_type": "code",
   "execution_count": 23,
   "id": "ea4fc7a9-d680-437b-bb55-7461efe41dd1",
   "metadata": {},
   "outputs": [],
   "source": [
    "opts = {\n",
    "    \"projectionDir\": (0, 0, 0.5),\n",
    "}"
   ]
  },
  {
   "cell_type": "code",
   "execution_count": 3,
   "id": "e0af99fb-3c90-4ee4-9a6d-13e841eea69f",
   "metadata": {},
   "outputs": [],
   "source": [
    "\n",
    "# exporters.export(dowel.edges(\">Z\"), \"artifacts/dowel.dxf\")"
   ]
  },
  {
   "cell_type": "code",
   "execution_count": null,
   "id": "c339f3d6-bd5a-4303-aaad-13380a333494",
   "metadata": {},
   "outputs": [],
   "source": []
  },
  {
   "cell_type": "code",
   "execution_count": null,
   "id": "d8c63e72-6828-45fb-9989-4103096ced53",
   "metadata": {},
   "outputs": [],
   "source": []
  },
  {
   "cell_type": "code",
   "execution_count": null,
   "id": "bae66aaa-0cf1-4bb7-86de-461f03e65acc",
   "metadata": {},
   "outputs": [],
   "source": []
  },
  {
   "cell_type": "code",
   "execution_count": 28,
   "id": "aa3c7c10-4686-4327-bafe-951ad2f5ee4b",
   "metadata": {},
   "outputs": [
    {
     "data": {
      "text/plain": [
       "[[10, 30],\n",
       " [15.0, 20.0],\n",
       " [15.0, 0.0],\n",
       " [10, -10],\n",
       " [5.0, 0.0],\n",
       " [5.0, 20.0],\n",
       " [10, 30]]"
      ]
     },
     "execution_count": 28,
     "metadata": {},
     "output_type": "execute_result"
    }
   ],
   "source": [
    "points"
   ]
  },
  {
   "cell_type": "code",
   "execution_count": null,
   "id": "90898573-a7e7-4d38-b3bf-e78fbb69ed00",
   "metadata": {},
   "outputs": [],
   "source": []
  }
 ],
 "metadata": {
  "kernelspec": {
   "display_name": "Python 3 (ipykernel)",
   "language": "python",
   "name": "python3"
  },
  "language_info": {
   "codemirror_mode": {
    "name": "ipython",
    "version": 3
   },
   "file_extension": ".py",
   "mimetype": "text/x-python",
   "name": "python",
   "nbconvert_exporter": "python",
   "pygments_lexer": "ipython3",
   "version": "3.9.9"
  }
 },
 "nbformat": 4,
 "nbformat_minor": 5
}
