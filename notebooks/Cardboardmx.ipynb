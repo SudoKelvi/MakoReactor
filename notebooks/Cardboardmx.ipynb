{
 "cells": [
  {
   "cell_type": "code",
   "execution_count": 314,
   "id": "2fe4061c-5345-4249-b393-bd7a5c0ce9c8",
   "metadata": {},
   "outputs": [
    {
     "data": {
      "text/html": [
       "<style>\n",
       ".scroll-area {\n",
       "    overflow: scroll !important;\n",
       "    border: unset !important;\n",
       "}\n",
       "\n",
       ".mac-scrollbar::-webkit-scrollbar {\n",
       "    width: 5px !important;\n",
       "    height: 5px !important;\n",
       "}\n",
       "\n",
       ".mac-scrollbar::-webkit-scrollbar-track {\n",
       "    background-color: transparent !important;\n",
       "}\n",
       "\n",
       ".mac-scrollbar .widget-html-content {\n",
       "    overflow-x: visible;\n",
       "    overflow-y: visible;\n",
       "}\n",
       "\n",
       ".tab-content-no-padding .widget-tab-contents {\n",
       "    overflow-x: visible !important;\n",
       "    overflow-y: visible !important;\n",
       "    padding-bottom: 0px !important;\n",
       "}\n",
       "\n",
       ".view_renderer {\n",
       "    border: 1px solid var(--jp-border-color1);\n",
       "    margin-top: 3px;\n",
       "    margin-left: 2px;\n",
       "}\n",
       "\n",
       ".view_tree {\n",
       "    padding: 0px !important;\n",
       "}\n",
       "\n",
       ".view_axes {\n",
       "    width: 60px !important;\n",
       "    margin-left: 5px !important;\n",
       "}\n",
       "\n",
       ".view_zero {\n",
       "    width: 55px !important;\n",
       "}\n",
       "\n",
       ".view_grid {\n",
       "    width: 56px !important;\n",
       "}\n",
       "\n",
       ".view_ortho {\n",
       "    width: 64px !important;\n",
       "}\n",
       "\n",
       ".view_transparent {\n",
       "    width: 125px !important;\n",
       "}\n",
       "\n",
       ".view_black_edges {\n",
       "    width: 105px !important;\n",
       "}\n",
       "\n",
       ".view_button {\n",
       "    padding: 0px !important;\n",
       "}\n",
       "\n",
       ".view_button>img {\n",
       "    height: 28px;\n",
       "    width: 36px;\n",
       "}\n",
       "\n",
       ".node_entry_wrap {\n",
       "    white-space: pre;\n",
       "}\n",
       "\n",
       ".node_entry {\n",
       "    white-space: nowrap;\n",
       "    padding-top: 4px;\n",
       "}\n",
       "\n",
       ".t-caret {\n",
       "    cursor: pointer;\n",
       "    -webkit-user-select: none;\n",
       "    /* Safari 3.1+ */\n",
       "    -moz-user-select: none;\n",
       "    /* Firefox 2+ */\n",
       "    -ms-user-select: none;\n",
       "    /* IE 10+ */\n",
       "    user-select: none;\n",
       "}\n",
       "\n",
       ".t-caret-down::before {\n",
       "    -ms-transform: rotate(90deg);\n",
       "    /* IE 9 */\n",
       "    -webkit-transform: rotate(90deg);\n",
       "    /* Safari */\n",
       "    transform: rotate(90deg);\n",
       "}\n",
       "\n",
       ".toplevel {\n",
       "    list-style-type: none;\n",
       "    padding-inline-start: 0px;\n",
       "}\n",
       "\n",
       ".nested {\n",
       "    display: none;\n",
       "    list-style-type: none;\n",
       "    padding-inline-start: 16px;\n",
       "}\n",
       "\n",
       ".active {\n",
       "    display: block;\n",
       "}\n",
       "\n",
       ".icon {\n",
       "    width: 28px !important;\n",
       "    height: 22px !important;\n",
       "    padding-right: 2px;\n",
       "    vertical-align: middle;\n",
       "}\n",
       "\n",
       ".indent {\n",
       "    margin-left: 12px;\n",
       "}\n",
       "\n",
       ".tree_label {\n",
       "    padding-left: 2px;\n",
       "    font-size: 14px;\n",
       "}\n",
       "\n",
       ".scroll_down {\n",
       "    display: flex;\n",
       "    flex-direction: column-reverse;\n",
       "}\n",
       "\n",
       ".small_table {\n",
       "    line-height: 14px;\n",
       "}\n",
       "\n",
       ".monospace select {\n",
       "    font-family: monospace;\n",
       "}\n",
       "\n",
       "        .t-caret::before {\n",
       "            content: u\"▶\";\n",
       "            font-size: 12px;\n",
       "            color: \"#080808\";\n",
       "            display: inline-block;\n",
       "            margin-right: 2px;\n",
       "        }\n",
       "\n",
       "        .mac-scrollbar::-webkit-scrollbar-thumb {\n",
       "            background-color: rgba(0, 0, 0, 0.2) !important;\n",
       "            border-radius: 100px !important;\n",
       "        }\n",
       "\n",
       "        .mac-scrollbar::-webkit-scrollbar-thumb:hover {\n",
       "            background: rgba(0, 0, 0, 0.4) !important;\n",
       "        }\n",
       "\n",
       "        .mac-scrollbar::-webkit-scrollbar-thumb:active {\n",
       "            background: #181818 !important;\n",
       "        }\n",
       "\n",
       "        .mac-scrollbar::-webkit-scrollbar-corner {\n",
       "            background: white;\n",
       "        }\n",
       "\n",
       "        .view_output {\n",
       "            border: 1px solid var(--jp-border-color1);\n",
       "            margin: 2px 2px 2px 2px !important;\n",
       "            padding-right: 1px !important;\n",
       "            background-color: white;\n",
       "        }\n",
       "    </style>"
      ],
      "text/plain": [
       "<IPython.core.display.HTML object>"
      ]
     },
     "metadata": {},
     "output_type": "display_data"
    }
   ],
   "source": [
    "import cadquery as cq\n",
    "from jupyter_cadquery.cadquery import (PartGroup, Part, Edges, Faces, Vertices, show)\n",
    "from jupyter_cadquery import set_sidecar, set_defaults\n",
    "\n",
    "import alphashape as alph\n",
    "\n",
    "import numpy as np\n",
    "from scipy.ndimage import affine_transform\n",
    "\n",
    "set_defaults(default_color=\"#ECF0FF\", axes=False, grid=True,theme=\"light\", axes0=True, ortho=True, transparent=True)\n",
    "set_sidecar(\"CadQuery\", init=True)\n",
    "\n",
    "\n",
    "in2mm = lambda x: x*25.4"
   ]
  },
  {
   "cell_type": "markdown",
   "id": "91d223d6-8cb1-4a85-84bf-abc1699495b9",
   "metadata": {},
   "source": [
    "## Bottom Plate"
   ]
  },
  {
   "cell_type": "code",
   "execution_count": 354,
   "id": "be6b76ab-bab8-4b4e-b844-036232f169c9",
   "metadata": {},
   "outputs": [
    {
     "name": "stdout",
     "output_type": "stream",
     "text": [
      "Done, using side car 'Cadquery'\n"
     ]
    },
    {
     "data": {
      "text/plain": [
       "<jupyter_cadquery.cad_display.CadqueryDisplay at 0x7c536d9cd5f8>"
      ]
     },
     "execution_count": 354,
     "metadata": {},
     "output_type": "execute_result"
    }
   ],
   "source": [
    "widthmm = in2mm(14)\n",
    "heightmm = in2mm(6.5)\n",
    "depthmm = in2mm(1/8)\n",
    "screwhole_diameter = 9\n",
    "\n",
    "# base \n",
    "base = cq.Workplane('XY').box(widthmm, heightmm, depthmm).edges(\"|Z\").fillet(5)\n",
    "\n",
    "# Corner holes\n",
    "offset = 50\n",
    "bottom = base.faces(\">Z\").workplane().rect(widthmm-offset, heightmm-offset, forConstruction=True)\\\n",
    "                                     .vertices().hole(screwhole_diameter)\n",
    "\n",
    "show(bottom) "
   ]
  },
  {
   "cell_type": "code",
   "execution_count": 343,
   "id": "a0bf2894-d9ab-4315-8d0d-5e3af6ee32f4",
   "metadata": {},
   "outputs": [
    {
     "name": "stdout",
     "output_type": "stream",
     "text": [
      "Done, using side car 'Cadquery'\n"
     ]
    }
   ],
   "source": [
    "base"
   ]
  },
  {
   "cell_type": "markdown",
   "id": "d16cc426-aac0-47f5-8a32-6a8a8d31a0af",
   "metadata": {},
   "source": [
    "## Hollow Plate"
   ]
  },
  {
   "cell_type": "code",
   "execution_count": 344,
   "id": "e1e68eb3-88de-45ed-9dfa-6bdbb83fe29e",
   "metadata": {},
   "outputs": [
    {
     "name": "stdout",
     "output_type": "stream",
     "text": [
      "Done, using side car 'Cadquery'\n"
     ]
    },
    {
     "data": {
      "text/plain": [
       "<jupyter_cadquery.cad_display.CadqueryDisplay at 0x7c536d9cd5f8>"
      ]
     },
     "execution_count": 344,
     "metadata": {},
     "output_type": "execute_result"
    }
   ],
   "source": [
    "hollow_offset_x = 80\n",
    "hollow_offset_y = 80\n",
    "\n",
    "cavity = cq.Workplane('XY').box(widthmm-hollow_offset_x, heightmm-hollow_offset_y, depthmm)\n",
    "shell = base.faces(\">Z\").workplane().rect(widthmm-offset, heightmm-offset, forConstruction=True)\\\n",
    "                                     .vertices().hole(screwhole_diameter)\n",
    "\n",
    "shell = shell.faces(\">Z\").workplane().rect(0, heightmm-offset, forConstruction=True).vertices().hole(screwhole_diameter)\n",
    "shell = shell.cut(cavity)\n",
    "show(shell)"
   ]
  },
  {
   "cell_type": "code",
   "execution_count": 370,
   "id": "073021e2-f4e1-496f-948b-9b76aa9a7de7",
   "metadata": {},
   "outputs": [
    {
     "ename": "StdFail_NotDone",
     "evalue": "BRep_API: command not done",
     "output_type": "error",
     "traceback": [
      "\u001b[0;31m---------------------------------------------------------------------------\u001b[0m",
      "\u001b[0;31mStdFail_NotDone\u001b[0m                           Traceback (most recent call last)",
      "\u001b[0;32m<ipython-input-370-86ed4a2bc095>\u001b[0m in \u001b[0;36m<module>\u001b[0;34m()\u001b[0m\n\u001b[1;32m     28\u001b[0m \u001b[0mcap_diameter\u001b[0m \u001b[0;34m=\u001b[0m \u001b[0;36m11.5\u001b[0m\u001b[0;34m\u001b[0m\u001b[0;34m\u001b[0m\u001b[0m\n\u001b[1;32m     29\u001b[0m \u001b[0;34m\u001b[0m\u001b[0m\n\u001b[0;32m---> 30\u001b[0;31m \u001b[0mf1_cap_faceplate\u001b[0m \u001b[0;34m=\u001b[0m \u001b[0mbase\u001b[0m\u001b[0;34m.\u001b[0m\u001b[0mfaces\u001b[0m\u001b[0;34m(\u001b[0m\u001b[0;34m\">Z\"\u001b[0m\u001b[0;34m)\u001b[0m\u001b[0;34m.\u001b[0m\u001b[0mpushPoints\u001b[0m\u001b[0;34m(\u001b[0m\u001b[0mfourbutton_layout\u001b[0m\u001b[0;34m)\u001b[0m\u001b[0;34m.\u001b[0m\u001b[0mcircle\u001b[0m\u001b[0;34m(\u001b[0m\u001b[0mcap_diameter\u001b[0m\u001b[0;34m)\u001b[0m\u001b[0;34m.\u001b[0m\u001b[0mcutThruAll\u001b[0m\u001b[0;34m(\u001b[0m\u001b[0;34m)\u001b[0m\u001b[0;34m\u001b[0m\u001b[0;34m\u001b[0m\u001b[0m\n\u001b[0m\u001b[1;32m     31\u001b[0m \u001b[0mf1_cap_faceplate\u001b[0m \u001b[0;34m=\u001b[0m \u001b[0mf1_cap_faceplate\u001b[0m\u001b[0;34m.\u001b[0m\u001b[0mpushPoints\u001b[0m\u001b[0;34m(\u001b[0m\u001b[0meightbutton_layout\u001b[0m\u001b[0;34m)\u001b[0m\u001b[0;34m.\u001b[0m\u001b[0mcircle\u001b[0m\u001b[0;34m(\u001b[0m\u001b[0mcap_diameter\u001b[0m\u001b[0;34m)\u001b[0m\u001b[0;34m.\u001b[0m\u001b[0mcutThruAll\u001b[0m\u001b[0;34m(\u001b[0m\u001b[0;34m)\u001b[0m\u001b[0;34m\u001b[0m\u001b[0;34m\u001b[0m\u001b[0m\n\u001b[1;32m     32\u001b[0m \u001b[0mf1_cap_faceplate\u001b[0m \u001b[0;34m=\u001b[0m \u001b[0mf1_cap_faceplate\u001b[0m\u001b[0;34m.\u001b[0m\u001b[0mpushPoints\u001b[0m\u001b[0;34m(\u001b[0m\u001b[0mmodifier_layout\u001b[0m\u001b[0;34m)\u001b[0m\u001b[0;34m.\u001b[0m\u001b[0mcircle\u001b[0m\u001b[0;34m(\u001b[0m\u001b[0mcap_diameter\u001b[0m\u001b[0;34m)\u001b[0m\u001b[0;34m.\u001b[0m\u001b[0mcutThruAll\u001b[0m\u001b[0;34m(\u001b[0m\u001b[0;34m)\u001b[0m\u001b[0;34m\u001b[0m\u001b[0;34m\u001b[0m\u001b[0m\n",
      "\u001b[0;32m/home/otacon/anaconda3/envs/cad/lib/python3.6/site-packages/cadquery/cq.py\u001b[0m in \u001b[0;36mcutThruAll\u001b[0;34m(self, clean, taper)\u001b[0m\n\u001b[1;32m   3087\u001b[0m         \u001b[0mrv\u001b[0m \u001b[0;34m=\u001b[0m \u001b[0;34m[\u001b[0m\u001b[0;34m]\u001b[0m\u001b[0;34m\u001b[0m\u001b[0;34m\u001b[0m\u001b[0m\n\u001b[1;32m   3088\u001b[0m         \u001b[0;32mfor\u001b[0m \u001b[0msolid\u001b[0m \u001b[0;32min\u001b[0m \u001b[0msolidRef\u001b[0m\u001b[0;34m.\u001b[0m\u001b[0mSolids\u001b[0m\u001b[0;34m(\u001b[0m\u001b[0;34m)\u001b[0m\u001b[0;34m:\u001b[0m\u001b[0;34m\u001b[0m\u001b[0;34m\u001b[0m\u001b[0m\n\u001b[0;32m-> 3089\u001b[0;31m             \u001b[0ms\u001b[0m \u001b[0;34m=\u001b[0m \u001b[0msolid\u001b[0m\u001b[0;34m.\u001b[0m\u001b[0mdprism\u001b[0m\u001b[0;34m(\u001b[0m\u001b[0;32mNone\u001b[0m\u001b[0;34m,\u001b[0m \u001b[0mwires\u001b[0m\u001b[0;34m,\u001b[0m \u001b[0mthruAll\u001b[0m\u001b[0;34m=\u001b[0m\u001b[0;32mTrue\u001b[0m\u001b[0;34m,\u001b[0m \u001b[0madditive\u001b[0m\u001b[0;34m=\u001b[0m\u001b[0;32mFalse\u001b[0m\u001b[0;34m,\u001b[0m \u001b[0mtaper\u001b[0m\u001b[0;34m=\u001b[0m\u001b[0;34m-\u001b[0m\u001b[0mtaper\u001b[0m\u001b[0;34m)\u001b[0m\u001b[0;34m\u001b[0m\u001b[0;34m\u001b[0m\u001b[0m\n\u001b[0m\u001b[1;32m   3090\u001b[0m \u001b[0;34m\u001b[0m\u001b[0m\n\u001b[1;32m   3091\u001b[0m             \u001b[0;32mif\u001b[0m \u001b[0mclean\u001b[0m\u001b[0;34m:\u001b[0m\u001b[0;34m\u001b[0m\u001b[0;34m\u001b[0m\u001b[0m\n",
      "\u001b[0;32m/home/otacon/anaconda3/envs/cad/lib/python3.6/site-packages/cadquery/occ_impl/shapes.py\u001b[0m in \u001b[0;36mdprism\u001b[0;34m(self, basis, profiles, depth, taper, thruAll, additive)\u001b[0m\n\u001b[1;32m   2673\u001b[0m                 \u001b[0mfeat\u001b[0m\u001b[0;34m.\u001b[0m\u001b[0mPerform\u001b[0m\u001b[0;34m(\u001b[0m\u001b[0mdepth\u001b[0m\u001b[0;34m)\u001b[0m\u001b[0;34m\u001b[0m\u001b[0;34m\u001b[0m\u001b[0m\n\u001b[1;32m   2674\u001b[0m \u001b[0;34m\u001b[0m\u001b[0m\n\u001b[0;32m-> 2675\u001b[0;31m             \u001b[0mshape\u001b[0m \u001b[0;34m=\u001b[0m \u001b[0mfeat\u001b[0m\u001b[0;34m.\u001b[0m\u001b[0mShape\u001b[0m\u001b[0;34m(\u001b[0m\u001b[0;34m)\u001b[0m\u001b[0;34m\u001b[0m\u001b[0;34m\u001b[0m\u001b[0m\n\u001b[0m\u001b[1;32m   2676\u001b[0m \u001b[0;34m\u001b[0m\u001b[0m\n\u001b[1;32m   2677\u001b[0m         \u001b[0;32mreturn\u001b[0m \u001b[0mSolid\u001b[0m\u001b[0;34m(\u001b[0m\u001b[0mshape\u001b[0m\u001b[0;34m)\u001b[0m\u001b[0;34m\u001b[0m\u001b[0;34m\u001b[0m\u001b[0m\n",
      "\u001b[0;31mStdFail_NotDone\u001b[0m: BRep_API: command not done"
     ]
    }
   ],
   "source": [
    "eightbutton_coords = [(-26.15, -11.75), (0,0), (28.65, -3.2), (53.5, -19.45), \n",
    "                      (-26.15, -33.75), (0, -22), (28.65, -25.2), (53.5, -41.45)]\n",
    "\n",
    "# the four buttons for directionals is just the first 4 buttons reflected along the Y axis\n",
    "fourbutton_coords = np.matmul(eightbutton_coords[4:], [[-1, 0], [0, 1]])\n",
    "\n",
    "cstick_coords = [(0,0), (-19, -13.25), (0, 26.65), (-19, 13.25), (19, 13.25)]\n",
    "# modifier buttons are just the first two cstick buttons reflected along the Y axis\n",
    "modifier_coords = np.matmul(cstick_coords[:2], [[-1, 0], [0, 1]])\n",
    "startbutton_coords = [(0,0)]\n",
    "\n",
    "eightbutton_center = (100, 58)\n",
    "fourbutton_center = (-100, 58)\n",
    "modifier_center = (-70, -45)\n",
    "cstick_center = (70, -45)\n",
    "startbutton_center = (0, 18)\n",
    "\n",
    "# for whatever reason, trying to cut everything at once causes an error,\n",
    "# so we have to do it one at a time\n",
    "eightbutton_layout = np.add(eightbutton_coords, eightbutton_center)  \n",
    "fourbutton_layout = np.add(fourbutton_coords, fourbutton_center)\n",
    "modifier_layout = np.add(modifier_coords, modifier_center)\n",
    "cstick_layout = np.add(cstick_coords, cstick_center)\n",
    "startbutton_layout = np.add(startbutton_coords, startbutton_center)\n",
    "\n",
    "complete_layout = np.concatenate([eightbutton_layout, fourbutton_layout, modifier_layout, cstick_layout, startbutton_layout], axis=0)\n",
    "\n",
    "cap_diameter = 11.5\n",
    "\n",
    "f1_cap_faceplate = base.faces(\">Z\").pushPoints(fourbutton_layout).circle(cap_diameter).cutThruAll()\n",
    "f1_cap_faceplate = f1_cap_faceplate.pushPoints(eightbutton_layout).circle(cap_diameter).cutThruAll()\n",
    "f1_cap_faceplate = f1_cap_faceplate.pushPoints(modifier_layout).circle(cap_diameter).cutThruAll()\n",
    "f1_cap_faceplate = f1_cap_faceplate.pushPoints(cstick_layout).circle(cap_diameter).cutThruAll()\n",
    "f1_cap_faceplate = f1_cap_faceplate.pushPoints(startbutton_layout).circle(cap_diameter).cutThruAll()\n",
    "\n",
    "f1_cap_faceplate"
   ]
  },
  {
   "cell_type": "markdown",
   "id": "54bc90c2-414d-4503-8cd0-615be3a0d522",
   "metadata": {},
   "source": [
    "# Keeb Cap Faceplate"
   ]
  },
  {
   "cell_type": "code",
   "execution_count": 371,
   "id": "9207a4cf-200f-45bf-b6cf-baed4e142759",
   "metadata": {},
   "outputs": [
    {
     "name": "stdout",
     "output_type": "stream",
     "text": [
      "Done, using side car 'Cadquery'\n"
     ]
    }
   ],
   "source": [
    "keebcap_dimensions = (19, 19)\n",
    "\n",
    "keebcap_faceplate = base.faces(\">Z\").pushPoints(fourbutton_layout).rect(*keebcap_dimensions).cutThruAll()\n",
    "keebcap_faceplate = keebcap_faceplate.pushPoints(eightbutton_layout).rect(*keebcap_dimensions).cutThruAll()\n",
    "keebcap_faceplate = keebcap_faceplate.pushPoints(modifier_layout).rect(*keebcap_dimensions).cutThruAll()\n",
    "keebcap_faceplate = keebcap_faceplate.pushPoints(cstick_layout).rect(*keebcap_dimensions).cutThruAll()\n",
    "keebcap_faceplate = keebcap_faceplate.pushPoints(startbutton_layout).rect(*keebcap_dimensions).cutThruAll()\n",
    "\n",
    "keebcap_faceplate"
   ]
  },
  {
   "cell_type": "code",
   "execution_count": 372,
   "id": "eb82aa55-b1a3-4141-8fc2-c1b269e83828",
   "metadata": {},
   "outputs": [
    {
     "name": "stdout",
     "output_type": "stream",
     "text": [
      "Done, using side car 'Cadquery'\n"
     ]
    }
   ],
   "source": [
    "# one with gaps removed\n",
    "handcut_faceplate = base.faces(\">Z\").pushPoints(fourbutton_layout).rect(*keebcap_dimensions).cutThruAll()\n",
    "\n",
    "# cut eight button cluster\n",
    "eightbutton_dimensions = (19, 2*19+3)\n",
    "eightbutton_center = np.add(eightbutton_layout[4:], eightbutton_layout[:4])/2\n",
    "handcut_faceplate = handcut_faceplate.faces(\">Z\").pushPoints(eightbutton_center).rect(*eightbutton_dimensions).cutThruAll()\n",
    "\n",
    "# cut modifiers\n",
    "modifier_verts = cq.Workplane(\"XY\").pushPoints(modifier_layout).rect(*keebcap_dimensions).vertices().vals()\n",
    "coords_x = [v.X for v in modifier_verts]\n",
    "coords_y = [v.Y for v in modifier_verts]\n",
    "x,y = alph.alphashape(zip(coords_x, coords_y), alpha=0.0).boundary.xy\n",
    "handcut_faceplate = handcut_faceplate.pushPoints(modifier_layout).rect(*keebcap_dimensions).cutThruAll()\n",
    "\n",
    "# cut the start button\n",
    "handcut_faceplate = handcut_faceplate.pushPoints(startbutton_layout).rect(*keebcap_dimensions).cutThruAll()\n",
    "handcut_faceplate = handcut_faceplate.pushPoints(cstick_layout).rect(*keebcap_dimensions).cutThruAll()\n",
    "\n",
    "# cut the cstick\n",
    "cstick_verts = cq.Workplane(\"XY\").pushPoints(cstick_layout).rect(*keebcap_dimensions).vertices().vals()\n",
    "coords_x = [v.X for v in cstick_verts]\n",
    "coords_y = [v.Y for v in cstick_verts]\n",
    "x,y = alph.alphashape(zip(coords_x, coords_y), alpha=0.09).boundary.xy\n",
    "handcut_faceplate = handcut_faceplate.polyline(list(zip(x,y))).close().cutThruAll()\n",
    "\n",
    "\n",
    "handcut_faceplate"
   ]
  },
  {
   "cell_type": "markdown",
   "id": "9e8d7181-6c0d-4ae3-bb56-e4a23e9dee8f",
   "metadata": {},
   "source": [
    "# Switch Plate"
   ]
  },
  {
   "cell_type": "code",
   "execution_count": 373,
   "id": "f56a256b-388a-4ba3-8901-5d176dba92b9",
   "metadata": {},
   "outputs": [
    {
     "name": "stdout",
     "output_type": "stream",
     "text": [
      "Done, using side car 'Cadquery'\n"
     ]
    }
   ],
   "source": [
    "switch_mount_dimensions = (14, 14)\n",
    "\n",
    "switch_plate = base.faces(\">Z\").pushPoints(complete_layout).rect(*switch_mount_dimensions).cutThruAll()\n",
    "switch_plate"
   ]
  },
  {
   "cell_type": "code",
   "execution_count": 374,
   "id": "2bf14e86-6c3c-4218-9f47-37c8d3f67fa9",
   "metadata": {},
   "outputs": [
    {
     "name": "stdout",
     "output_type": "stream",
     "text": [
      "-160.5 160.5 -65.25 65.0\n",
      "Done, using side car 'Cadquery'\n"
     ]
    },
    {
     "data": {
      "text/plain": [
       "<jupyter_cadquery.cad_display.CadqueryDisplay at 0x7c536d9cd5f8>"
      ]
     },
     "execution_count": 374,
     "metadata": {},
     "output_type": "execute_result"
    }
   ],
   "source": [
    "pico_width = 21\n",
    "pico_height = 53\n",
    "\n",
    "usbc_width = 19.5\n",
    "usbc_height = 44\n",
    "usbc_mount_width = 28\n",
    "usbc_mount_height = 9\n",
    "\n",
    "# cadquery is making getting the bbox coords hard for all the rects, so I am  going around it\n",
    "vertices = base.faces(\">Z\").pushPoints(complete_layout).rect(*switch_mount_dimensions).vertices().vals()\n",
    "coords_x = [v.X for v in vertices]\n",
    "coords_y = [v.Y for v in vertices]\n",
    "minx = min(coords_x)\n",
    "maxx = max(coords_x)\n",
    "miny = min(coords_y)\n",
    "maxy = max(coords_y)\n",
    "print(minx, maxx, miny, maxy)\n",
    "\n",
    "usbc_slot = cq.Workplane('XY').hLine(usbc_mount_width/2).vLine(-usbc_mount_height).hLine(-(usbc_mount_width-usbc_width)/2).vLine(-1*(usbc_height-usbc_mount_height)).hLineTo(0).mirrorY()\n",
    "pico_slot = cq.Workplane('XY').rect(pico_width, pico_height)\n",
    "\n",
    "# extrude \n",
    "usbc_poly = usbc_slot.offset2D(1, kind=\"intersection\").extrude(depthmm, both=True).translate((40, heightmm/2-1, 0))\n",
    "cavity = cq.Workplane(\"XY\").rect(maxx-minx, maxy-miny).extrude(depthmm, both=True).translate((0, -1.5))\n",
    "\n",
    "wiring_cavity = base.cut(usbc_poly).cut(cavity)\n",
    "show(wiring_cavity)"
   ]
  },
  {
   "cell_type": "code",
   "execution_count": 375,
   "id": "f01cd977-539d-437b-a7c1-df5178dbba0a",
   "metadata": {},
   "outputs": [
    {
     "name": "stdout",
     "output_type": "stream",
     "text": [
      "Done, using side car 'Cadquery'\n"
     ]
    }
   ],
   "source": [
    "screwhole_diameter = 9\n",
    "\n",
    "# c = cq.Workplane('XY').polyline(np.transpose([clusterPolys.boundary.xy[0], clusterPolys.boundary.xy[1]])).edges().close().offset2D(4, kind='tangent').extrude(depthmm, both=True)\n",
    "# pcb_holder_layer2 = pcb_holder.cut(c)\n",
    "wiring_cavity_last_layer = wiring_cavity.faces(\">Z\").workplane().rect(widthmm-offset, heightmm-offset, forConstruction=True)\\\n",
    "                                     .vertices().hole(screwhole_diameter)\n",
    "\n",
    "wiring_cavity_last_layer"
   ]
  },
  {
   "cell_type": "code",
   "execution_count": 376,
   "id": "63239468-93ad-49bd-be66-ed1ddab2482c",
   "metadata": {},
   "outputs": [],
   "source": [
    "# type(verts.wire().val())\n",
    "# verts = cq.Workplane(\"XY\").add(verts.wire().val()).toPending().extrude(depthmm, both=True)"
   ]
  },
  {
   "cell_type": "code",
   "execution_count": 377,
   "id": "141011c4-126f-4549-9a8c-7d860d632387",
   "metadata": {},
   "outputs": [],
   "source": [
    "# show(pcb_holder.cut(verts))"
   ]
  },
  {
   "cell_type": "code",
   "execution_count": null,
   "id": "2ce5c2df-cf9c-4e80-b8a8-2689386c6fca",
   "metadata": {},
   "outputs": [],
   "source": []
  },
  {
   "cell_type": "code",
   "execution_count": null,
   "id": "f517efb8-deaf-4a90-9f8a-41d25bfec95b",
   "metadata": {},
   "outputs": [],
   "source": []
  },
  {
   "cell_type": "code",
   "execution_count": 378,
   "id": "a5715a0a-eb9c-49f9-b894-62fd03e951f9",
   "metadata": {},
   "outputs": [
    {
     "name": "stdout",
     "output_type": "stream",
     "text": [
      "Done, using side car 'Cadquery'\n"
     ]
    },
    {
     "data": {
      "text/plain": [
       "<jupyter_cadquery.cad_display.CadqueryDisplay at 0x7c536d9cd5f8>"
      ]
     },
     "execution_count": 378,
     "metadata": {},
     "output_type": "execute_result"
    }
   ],
   "source": [
    "cardboardmx = PartGroup(\n",
    "    [\n",
    "        # Part(cq.importers.importDXF('/mnt/chromeos/MyFiles/Downloads/3_SwitchPlate_v2.dxf').rotateAboutCenter((0,0,1), 180).translate((223.1, -181.25, 0)) ),\n",
    "        Part(base, \"bottom\"),\n",
    "        Part(bottom.translate((0,0,depthmm*1)), \"shell\"),\n",
    "        Part(wiring_cavity_last_layer.translate((0,0,depthmm*2)), \"pcb_holder2\"),\n",
    "        Part(wiring_cavity.translate((0,0,depthmm*3)), \"pcb_holder\"),\n",
    "        Part(switch_plate.translate((0,0,depthmm*4)), \"switchplate1\"),\n",
    "        Part(switch_plate.translate((0,0,depthmm*5)), \"switchplate2\"),\n",
    "        Part(handcut_faceplate.translate((0,0,depthmm*6)), \"faceplate1\"),\n",
    "\n",
    "    ],\n",
    "    \"carboardMX\"\n",
    ")\n",
    "\n",
    "show(cardboardmx, default_color=\"blue\")"
   ]
  },
  {
   "cell_type": "code",
   "execution_count": 328,
   "id": "9ca30dc9-4d36-4b43-a629-61f0836d6087",
   "metadata": {},
   "outputs": [],
   "source": [
    "from cadquery import exporters\n",
    "\n",
    "exporters.export(bottom, \"artifacts/bottom.dxf\")\n",
    "exporters.export(wiring_cavity_last_layer, \"artifacts/pcb_layer_1.dxf\")\n",
    "exporters.export(wiring_cavity, \"artifacts/pcb_layer_2.dxf\")\n",
    "exporters.export(switch_plate, \"artifacts/switch_plate.dxf\")\n",
    "exporters.export(keeb_cap_faceplate, \"artifacts/keebcap_faceplate.dxf\")\n",
    "exporters.export(f1_cap_faceplate, \"artifacts/f1_cap_faceplate.dxf\")"
   ]
  },
  {
   "cell_type": "code",
   "execution_count": 42,
   "id": "c339f3d6-bd5a-4303-aaad-13380a333494",
   "metadata": {},
   "outputs": [],
   "source": [
    "# exporters.export(cardboardmx, \"artifacts/controller.svg\")"
   ]
  },
  {
   "cell_type": "code",
   "execution_count": null,
   "id": "68f9507f-bb1b-40df-954b-c2fc148ca31b",
   "metadata": {},
   "outputs": [],
   "source": []
  },
  {
   "cell_type": "code",
   "execution_count": null,
   "id": "bf8fbc96-c21e-4d0f-9758-299f17135677",
   "metadata": {},
   "outputs": [],
   "source": []
  },
  {
   "cell_type": "code",
   "execution_count": null,
   "id": "ebda1c39-7a3c-490d-b627-44e571903fa4",
   "metadata": {},
   "outputs": [],
   "source": []
  },
  {
   "cell_type": "code",
   "execution_count": null,
   "id": "e50fb565-251b-409a-ae7e-504a3ce37201",
   "metadata": {},
   "outputs": [],
   "source": []
  },
  {
   "cell_type": "code",
   "execution_count": null,
   "id": "d8c63e72-6828-45fb-9989-4103096ced53",
   "metadata": {},
   "outputs": [],
   "source": []
  }
 ],
 "metadata": {
  "kernelspec": {
   "display_name": "Python 3",
   "language": "python",
   "name": "python3"
  },
  "language_info": {
   "codemirror_mode": {
    "name": "ipython",
    "version": 3
   },
   "file_extension": ".py",
   "mimetype": "text/x-python",
   "name": "python",
   "nbconvert_exporter": "python",
   "pygments_lexer": "ipython3",
   "version": "3.6.15"
  }
 },
 "nbformat": 4,
 "nbformat_minor": 5
}
