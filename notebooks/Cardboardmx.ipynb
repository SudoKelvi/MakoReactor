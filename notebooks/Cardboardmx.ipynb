{
 "cells": [
  {
   "cell_type": "code",
   "execution_count": 1,
   "id": "2fe4061c-5345-4249-b393-bd7a5c0ce9c8",
   "metadata": {},
   "outputs": [
    {
     "name": "stdout",
     "output_type": "stream",
     "text": [
      "Overwriting auto display for cadquery Workplane and Shape\n"
     ]
    },
    {
     "data": {
      "text/html": [
       "<style>\n",
       ".scroll-area {\n",
       "    overflow: scroll !important;\n",
       "    border: unset !important;\n",
       "}\n",
       "\n",
       ".mac-scrollbar::-webkit-scrollbar {\n",
       "    width: 5px !important;\n",
       "    height: 5px !important;\n",
       "}\n",
       "\n",
       ".mac-scrollbar::-webkit-scrollbar-track {\n",
       "    background-color: transparent !important;\n",
       "}\n",
       "\n",
       ".mac-scrollbar .widget-html-content {\n",
       "    overflow-x: visible;\n",
       "    overflow-y: visible;\n",
       "}\n",
       "\n",
       ".tab-content-no-padding .widget-tab-contents {\n",
       "    overflow-x: visible !important;\n",
       "    overflow-y: visible !important;\n",
       "    padding-bottom: 0px !important;\n",
       "}\n",
       "\n",
       ".view_renderer {\n",
       "    border: 1px solid var(--jp-border-color1);\n",
       "    margin-top: 3px;\n",
       "    margin-left: 2px;\n",
       "}\n",
       "\n",
       ".view_tree {\n",
       "    padding: 0px !important;\n",
       "}\n",
       "\n",
       ".view_axes {\n",
       "    width: 60px !important;\n",
       "    margin-left: 5px !important;\n",
       "}\n",
       "\n",
       ".view_zero {\n",
       "    width: 55px !important;\n",
       "}\n",
       "\n",
       ".view_grid {\n",
       "    width: 56px !important;\n",
       "}\n",
       "\n",
       ".view_ortho {\n",
       "    width: 64px !important;\n",
       "}\n",
       "\n",
       ".view_transparent {\n",
       "    width: 125px !important;\n",
       "}\n",
       "\n",
       ".view_black_edges {\n",
       "    width: 105px !important;\n",
       "}\n",
       "\n",
       ".view_button {\n",
       "    padding: 0px !important;\n",
       "}\n",
       "\n",
       ".view_button>img {\n",
       "    height: 28px;\n",
       "    width: 36px;\n",
       "}\n",
       "\n",
       ".node_entry_wrap {\n",
       "    white-space: pre;\n",
       "}\n",
       "\n",
       ".node_entry {\n",
       "    white-space: nowrap;\n",
       "    padding-top: 4px;\n",
       "}\n",
       "\n",
       ".t-caret {\n",
       "    cursor: pointer;\n",
       "    -webkit-user-select: none;\n",
       "    /* Safari 3.1+ */\n",
       "    -moz-user-select: none;\n",
       "    /* Firefox 2+ */\n",
       "    -ms-user-select: none;\n",
       "    /* IE 10+ */\n",
       "    user-select: none;\n",
       "}\n",
       "\n",
       ".t-caret-down::before {\n",
       "    -ms-transform: rotate(90deg);\n",
       "    /* IE 9 */\n",
       "    -webkit-transform: rotate(90deg);\n",
       "    /* Safari */\n",
       "    transform: rotate(90deg);\n",
       "}\n",
       "\n",
       ".toplevel {\n",
       "    list-style-type: none;\n",
       "    padding-inline-start: 0px;\n",
       "}\n",
       "\n",
       ".nested {\n",
       "    display: none;\n",
       "    list-style-type: none;\n",
       "    padding-inline-start: 16px;\n",
       "}\n",
       "\n",
       ".active {\n",
       "    display: block;\n",
       "}\n",
       "\n",
       ".icon {\n",
       "    width: 28px !important;\n",
       "    height: 22px !important;\n",
       "    padding-right: 2px;\n",
       "    vertical-align: middle;\n",
       "}\n",
       "\n",
       ".indent {\n",
       "    margin-left: 12px;\n",
       "}\n",
       "\n",
       ".tree_label {\n",
       "    padding-left: 2px;\n",
       "    font-size: 14px;\n",
       "}\n",
       "\n",
       ".scroll_down {\n",
       "    display: flex;\n",
       "    flex-direction: column-reverse;\n",
       "}\n",
       "\n",
       ".small_table {\n",
       "    line-height: 14px;\n",
       "}\n",
       "\n",
       ".monospace select {\n",
       "    font-family: monospace;\n",
       "}\n",
       "\n",
       "        .t-caret::before {\n",
       "            content: u\"▶\";\n",
       "            font-size: 12px;\n",
       "            color: \"#080808\";\n",
       "            display: inline-block;\n",
       "            margin-right: 2px;\n",
       "        }\n",
       "\n",
       "        .mac-scrollbar::-webkit-scrollbar-thumb {\n",
       "            background-color: rgba(0, 0, 0, 0.2) !important;\n",
       "            border-radius: 100px !important;\n",
       "        }\n",
       "\n",
       "        .mac-scrollbar::-webkit-scrollbar-thumb:hover {\n",
       "            background: rgba(0, 0, 0, 0.4) !important;\n",
       "        }\n",
       "\n",
       "        .mac-scrollbar::-webkit-scrollbar-thumb:active {\n",
       "            background: #181818 !important;\n",
       "        }\n",
       "\n",
       "        .mac-scrollbar::-webkit-scrollbar-corner {\n",
       "            background: white;\n",
       "        }\n",
       "\n",
       "        .view_output {\n",
       "            border: 1px solid var(--jp-border-color1);\n",
       "            margin: 2px 2px 2px 2px !important;\n",
       "            padding-right: 1px !important;\n",
       "            background-color: white;\n",
       "        }\n",
       "    </style>"
      ],
      "text/plain": [
       "<IPython.core.display.HTML object>"
      ]
     },
     "metadata": {},
     "output_type": "display_data"
    }
   ],
   "source": [
    "import cadquery as cq\n",
    "from jupyter_cadquery.cadquery import (PartGroup, Part, Edges, Faces, Vertices, show)\n",
    "from jupyter_cadquery import set_sidecar, set_defaults\n",
    "\n",
    "import alphashape as alph\n",
    "\n",
    "import numpy as np\n",
    "\n",
    "set_defaults(default_color=\"#8CC5FF\", axes=False, grid=True,theme=\"light\", axes0=True, ortho=True, transparent=True)\n",
    "set_sidecar(\"CadQuery\", init=True)\n",
    "\n"
   ]
  },
  {
   "cell_type": "markdown",
   "id": "91d223d6-8cb1-4a85-84bf-abc1699495b9",
   "metadata": {},
   "source": [
    "## Bottom Plate"
   ]
  },
  {
   "cell_type": "code",
   "execution_count": 2,
   "id": "be6b76ab-bab8-4b4e-b844-036232f169c9",
   "metadata": {},
   "outputs": [
    {
     "name": "stdout",
     "output_type": "stream",
     "text": [
      "Done, using side car 'Cadquery'\n"
     ]
    },
    {
     "data": {
      "text/plain": [
       "<jupyter_cadquery.cad_display.CadqueryDisplay at 0x7cb337b4b5f8>"
      ]
     },
     "execution_count": 2,
     "metadata": {},
     "output_type": "execute_result"
    }
   ],
   "source": [
    "widthmm = 355.6\n",
    "heightmm = 165.1\n",
    "depthmm = 3.175\n",
    "screwhole_diameter = 5\n",
    "\n",
    "# base \n",
    "base = cq.Workplane('XY').box(widthmm, heightmm, depthmm)\n",
    "\n",
    "# Corner holes\n",
    "offset = 25\n",
    "bottom = base.faces(\">Z\").workplane().rect(widthmm-offset, heightmm-offset, forConstruction=True)\\\n",
    "                                     .vertices().hole(screwhole_diameter)\n",
    "# inner holes\n",
    "bottom = bottom.faces(\">Z\").workplane().rect(50, heightmm-offset, forConstruction=True).vertices().hole(screwhole_diameter)\n",
    "\n",
    "\n",
    "\n",
    "show(bottom) "
   ]
  },
  {
   "cell_type": "markdown",
   "id": "d16cc426-aac0-47f5-8a32-6a8a8d31a0af",
   "metadata": {},
   "source": [
    "## Hollow Plate"
   ]
  },
  {
   "cell_type": "code",
   "execution_count": 3,
   "id": "e1e68eb3-88de-45ed-9dfa-6bdbb83fe29e",
   "metadata": {},
   "outputs": [
    {
     "name": "stdout",
     "output_type": "stream",
     "text": [
      "Done, using side car 'Cadquery'\n"
     ]
    },
    {
     "data": {
      "text/plain": [
       "<jupyter_cadquery.cad_display.CadqueryDisplay at 0x7cb337b4b5f8>"
      ]
     },
     "execution_count": 3,
     "metadata": {},
     "output_type": "execute_result"
    }
   ],
   "source": [
    "hollow_offset_x = 50\n",
    "hollow_offset_y = 50\n",
    "\n",
    "cavity = cq.Workplane('XY').box(widthmm-hollow_offset_x, heightmm-hollow_offset_y, depthmm)\n",
    "shell = base.faces(\">Z\").workplane().rect(widthmm-offset, heightmm-offset, forConstruction=True)\\\n",
    "                                     .vertices().hole(screwhole_diameter)\n",
    "\n",
    "shell = shell.faces(\">Z\").workplane().rect(50, heightmm-offset, forConstruction=True).vertices().hole(screwhole_diameter)\n",
    "shell = shell.cut(cavity)\n",
    "show(shell)"
   ]
  },
  {
   "cell_type": "code",
   "execution_count": 4,
   "id": "073021e2-f4e1-496f-948b-9b76aa9a7de7",
   "metadata": {},
   "outputs": [],
   "source": [
    "right_4finger_cluster_coords = [(-26.15, -11.75), (0,0), (28.65, -3.2), (53.5, -19.45), \n",
    "                                (-26.15, -33.75), (0, -22), (28.65, -25.2), (53.5, -41.45)]\n",
    "left_4finger_cluster_coords = [(-53.5, -19.45), (-28.65, -3.2), (0,0), (26.15, -11.75)]\n",
    "left_thumb_cluster_coords = [(0,0), (19, -13.25)]\n",
    "right_thumb_cluster_coords = [(0,0), (-19, -13.25), (0, 26.65), (-19, 13.25), (19, 13.25)] #, (-15, -15), (15, 15)]\n",
    "center_options_f1_coords = [(0,0)]\n",
    "\n",
    "f1_cap_faceplate = base.faces(\">Z\").center(-100, 33).pushPoints(left_4finger_cluster_coords).circle(11.25)\n",
    "f1_cap_faceplate = base.faces(\">Z\").center(100, 55).pushPoints(right_4finger_cluster_coords).circle(11.25)\n",
    "f1_cap_faceplate = base.faces(\">Z\").center(-70, -45).pushPoints(left_thumb_cluster_coords).circle(11.25)\n",
    "f1_cap_faceplate = base.faces(\">Z\").center(70, -45).pushPoints(right_thumb_cluster_coords).circle(11.25)\n",
    "f1_cap_faceplate = base.faces(\">Z\").center(0, 18).pushPoints(center_options_f1_coords).circle(11.25)\n",
    "f1_cap_faceplate = f1_cap_faceplate.cutThruAll()\n",
    "\n",
    "# show(f1_cap_faceplate)"
   ]
  },
  {
   "cell_type": "code",
   "execution_count": 5,
   "id": "9207a4cf-200f-45bf-b6cf-baed4e142759",
   "metadata": {},
   "outputs": [],
   "source": [
    "keeb_cap_faceplate = base.faces(\">Z\").center(-100, 33).pushPoints(left_4finger_cluster_coords).rect(19, 19)\n",
    "keeb_cap_faceplate = base.faces(\">Z\").center(100, 55).pushPoints(right_4finger_cluster_coords).rect(19, 19)\n",
    "keeb_cap_faceplate = base.faces(\">Z\").center(-70, -45).pushPoints(left_thumb_cluster_coords).rect(19, 19)\n",
    "keeb_cap_faceplate = base.faces(\">Z\").center(70, -45).pushPoints(right_thumb_cluster_coords).rect(19, 19)\n",
    "keeb_cap_faceplate = base.faces(\">Z\").center(0, 18).pushPoints(center_options_f1_coords).rect(19, 19)\n",
    "keeb_cap_faceplate = keeb_cap_faceplate.cutThruAll()"
   ]
  },
  {
   "cell_type": "code",
   "execution_count": 6,
   "id": "f56a256b-388a-4ba3-8901-5d176dba92b9",
   "metadata": {},
   "outputs": [],
   "source": [
    "switch_plate_f1 = base.faces(\">Z\").center(-100, 33).pushPoints(left_4finger_cluster_coords).rect(14,14)\n",
    "left_4finger_cluster_verts = switch_plate_f1.vertices().vals()\n",
    "switch_plate_f1 = base.faces(\">Z\").center(100, 55).pushPoints(right_4finger_cluster_coords).rect(14,14)\n",
    "right_4finger_cluster_verts = switch_plate_f1.vertices().vals()\n",
    "switch_plate_f1 = base.faces(\">Z\").center(-70, -45).pushPoints(left_thumb_cluster_coords).rect(14,14)\n",
    "left_thumb_cluster_verts = switch_plate_f1.vertices().vals()\n",
    "switch_plate_f1 = base.faces(\">Z\").center(70, -45).pushPoints(right_thumb_cluster_coords).rect(14,14)\n",
    "right_thumb_cluster_verts = switch_plate_f1.vertices().vals()\n",
    "switch_plate_f1 = base.faces(\">Z\").center(0, 18).pushPoints(center_options_f1_coords).rect(14,14)\n",
    "switch_plate_f1 = switch_plate_f1.cutThruAll()\n",
    "\n",
    "# show(switch_plate_f1)"
   ]
  },
  {
   "cell_type": "code",
   "execution_count": 7,
   "id": "9d27eb29-c4a4-4206-ae06-4ff26d283356",
   "metadata": {},
   "outputs": [],
   "source": [
    "# vertices"
   ]
  },
  {
   "cell_type": "code",
   "execution_count": null,
   "id": "58eed573-348c-48e3-bd5c-36a5e81b5d74",
   "metadata": {},
   "outputs": [],
   "source": []
  },
  {
   "cell_type": "code",
   "execution_count": 37,
   "id": "2bf14e86-6c3c-4218-9f47-37c8d3f67fa9",
   "metadata": {},
   "outputs": [
    {
     "name": "stdout",
     "output_type": "stream",
     "text": [
      "Done, using side car 'Cadquery'\n"
     ]
    }
   ],
   "source": [
    "pico_width = 21\n",
    "pico_height = 53\n",
    "\n",
    "usbc_width = 19.5\n",
    "usbc_height = 44\n",
    "usbc_mount_width = 28\n",
    "usbc_mount_height = 9\n",
    "\n",
    "vertices = left_4finger_cluster_verts + right_4finger_cluster_verts + left_thumb_cluster_verts + right_thumb_cluster_verts\n",
    "coords = [[v.X,v.Y] for v in vertices]\n",
    "\n",
    "clusterPolys = alph.alphashape(coords, 0.1)\n",
    "\n",
    "usbc_slot = cq.Workplane('XY').hLine(usbc_mount_width/2).vLine(-usbc_mount_height).hLine(-(usbc_mount_width-usbc_width)/2).vLine(-1*(usbc_height-usbc_mount_height)).hLineTo(0).mirrorY()\n",
    "pico_slot = cq.Workplane('XY').rect(pico_width, pico_height)\n",
    "\n",
    "# extrude \n",
    "usbc_poly = usbc_slot.extrude(depthmm, both=True).translate((0, heightmm/2-5, 0))\n",
    "pico_poly = pico_slot.extrude(depthmm, both=True).translate((0, -30, 0))\n",
    "\n",
    "pcb_holder = base.cut(usbc_poly).cut(pico_poly)\n",
    "\n",
    "#cut channels for wires\n",
    "pcb_holder = pcb_holder.center(0, 20).rect(14, 150).center(0, -20).cutThruAll()\n",
    "# cutThruAll kills the kernel, RIP\n",
    "for poly in clusterPolys:\n",
    "    c = cq.Workplane('XY').polyline(np.transpose([poly.boundary.xy[0], poly.boundary.xy[1]])).edges().close().extrude(depthmm, both=True)\n",
    "    pcb_holder = pcb_holder.cut(c)\n",
    "\n",
    "screwhole_diameter = 6.1\n",
    "pcb_holder = pcb_holder.faces(\">Z\").workplane().rect(widthmm-offset, heightmm-offset, forConstruction=True)\\\n",
    "                                     .vertices().hole(screwhole_diameter)\n",
    "pcb_holder = pcb_holder.faces(\">Z\").workplane().rect(50, heightmm-offset, forConstruction=True).vertices().hole(screwhole_diameter)\n",
    "pcb_holder"
   ]
  },
  {
   "cell_type": "code",
   "execution_count": null,
   "id": "f01cd977-539d-437b-a7c1-df5178dbba0a",
   "metadata": {},
   "outputs": [],
   "source": []
  },
  {
   "cell_type": "code",
   "execution_count": 38,
   "id": "d49e3a82-22c1-4920-a778-41f7d1a0783f",
   "metadata": {},
   "outputs": [],
   "source": [
    "pcb_holder_layer2 = pcb_holder.center(0, -30).rect(154, 28).cutThruAll()\n",
    "pcb_holder_layer2 = pcb_holder_layer2.center(73.85, 18).rect(14, 55).cutThruAll()\n",
    "pcb_holder_layer2 = pcb_holder_layer2.center(-140, 18).rect(14, 45).cutThruAll()\n"
   ]
  },
  {
   "cell_type": "code",
   "execution_count": 39,
   "id": "63239468-93ad-49bd-be66-ed1ddab2482c",
   "metadata": {},
   "outputs": [
    {
     "name": "stdout",
     "output_type": "stream",
     "text": [
      "Done, using side car 'Cadquery'\n"
     ]
    }
   ],
   "source": [
    "pcb_holder_layer2"
   ]
  },
  {
   "cell_type": "code",
   "execution_count": null,
   "id": "141011c4-126f-4549-9a8c-7d860d632387",
   "metadata": {},
   "outputs": [],
   "source": []
  },
  {
   "cell_type": "code",
   "execution_count": 40,
   "id": "a5715a0a-eb9c-49f9-b894-62fd03e951f9",
   "metadata": {},
   "outputs": [
    {
     "name": "stdout",
     "output_type": "stream",
     "text": [
      "Done, using side car 'Cadquery'\n"
     ]
    },
    {
     "data": {
      "text/plain": [
       "<jupyter_cadquery.cad_display.CadqueryDisplay at 0x7cb337b4b5f8>"
      ]
     },
     "execution_count": 40,
     "metadata": {},
     "output_type": "execute_result"
    }
   ],
   "source": [
    "cardboardmx = PartGroup(\n",
    "    [\n",
    "        # Part(cq.importers.importDXF('/mnt/chromeos/MyFiles/Downloads/3_SwitchPlate_v2.dxf').rotateAboutCenter((0,0,1), 180).translate((223.1, -181.25, 0)) ),\n",
    "        Part(bottom, \"bottom\"),\n",
    "        Part(bottom.translate((0,0,depthmm*1)), \"shell\"),\n",
    "        Part(pcb_holder_layer2.translate((0,0,depthmm*2)), \"pcb_holder2\"),\n",
    "        Part(pcb_holder.translate((0,0,depthmm*3)), \"pcb_holder\"),\n",
    "        Part(switch_plate_f1.translate((0,0,depthmm*4)), \"switchplate1\"),\n",
    "        Part(switch_plate_f1.translate((0,0,depthmm*5)), \"switchplate2\"),\n",
    "        Part(keeb_cap_faceplate.translate((0,0,depthmm*6)), \"faceplate1\"),\n",
    "\n",
    "    ],\n",
    "    \"carboardMX\"\n",
    ")\n",
    "\n",
    "show(cardboardmx, default_color=\"blue\")"
   ]
  },
  {
   "cell_type": "code",
   "execution_count": 41,
   "id": "9ca30dc9-4d36-4b43-a629-61f0836d6087",
   "metadata": {},
   "outputs": [],
   "source": [
    "from cadquery import exporters\n",
    "\n",
    "exporters.export(bottom, \"artifacts/bottom.svg\")\n",
    "exporters.export(pcb_holder_layer2, \"artifacts/pcb_layer_1.svg\")\n",
    "exporters.export(pcb_holder, \"artifacts/pcb_layer_2.svg\")\n",
    "exporters.export(switch_plate_f1, \"artifacts/switch_plate.svg\")\n",
    "exporters.export(keeb_cap_faceplate, \"artifacts/keebcap_faceplate.svg\")"
   ]
  },
  {
   "cell_type": "code",
   "execution_count": 42,
   "id": "c339f3d6-bd5a-4303-aaad-13380a333494",
   "metadata": {},
   "outputs": [],
   "source": [
    "# exporters.export(cardboardmx, \"artifacts/controller.svg\")"
   ]
  },
  {
   "cell_type": "code",
   "execution_count": null,
   "id": "68f9507f-bb1b-40df-954b-c2fc148ca31b",
   "metadata": {},
   "outputs": [],
   "source": [
    "dir()"
   ]
  }
 ],
 "metadata": {
  "kernelspec": {
   "display_name": "Python 3",
   "language": "python",
   "name": "python3"
  },
  "language_info": {
   "codemirror_mode": {
    "name": "ipython",
    "version": 3
   },
   "file_extension": ".py",
   "mimetype": "text/x-python",
   "name": "python",
   "nbconvert_exporter": "python",
   "pygments_lexer": "ipython3",
   "version": "3.6.15"
  }
 },
 "nbformat": 4,
 "nbformat_minor": 5
}
