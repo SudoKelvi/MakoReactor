{
 "cells": [
  {
   "cell_type": "code",
   "execution_count": 1,
   "id": "2fe4061c-5345-4249-b393-bd7a5c0ce9c8",
   "metadata": {},
   "outputs": [
    {
     "name": "stdout",
     "output_type": "stream",
     "text": [
      "Overwriting auto display for cadquery Workplane and Shape\n"
     ]
    },
    {
     "name": "stderr",
     "output_type": "stream",
     "text": [
      "/home/otacon/anaconda3/envs/cadquery/lib/python3.9/site-packages/jupyter_client/session.py:716: UserWarning: Message serialization failed with:\n",
      "Out of range float values are not JSON compliant\n",
      "Supporting this message is deprecated in jupyter-client 7, please make sure your message is JSON-compliant\n",
      "  content = self.pack(content)\n"
     ]
    },
    {
     "data": {
      "text/html": [
       "<style>\n",
       ".scroll-area {\n",
       "    overflow: scroll !important;\n",
       "    border: unset !important;\n",
       "}\n",
       "\n",
       ".mac-scrollbar::-webkit-scrollbar {\n",
       "    width: 5px !important;\n",
       "    height: 5px !important;\n",
       "}\n",
       "\n",
       ".mac-scrollbar::-webkit-scrollbar-track {\n",
       "    background-color: transparent !important;\n",
       "}\n",
       "\n",
       ".mac-scrollbar .widget-html-content {\n",
       "    overflow-x: visible;\n",
       "    overflow-y: visible;\n",
       "}\n",
       "\n",
       ".tab-content-no-padding .widget-tab-contents {\n",
       "    overflow-x: visible !important;\n",
       "    overflow-y: visible !important;\n",
       "    padding-bottom: 0px !important;\n",
       "}\n",
       "\n",
       ".view_renderer {\n",
       "    border: 1px solid var(--jp-border-color1);\n",
       "    margin-top: 3px;\n",
       "    margin-left: 2px;\n",
       "}\n",
       "\n",
       ".view_tree {\n",
       "    padding: 0px !important;\n",
       "}\n",
       "\n",
       ".view_axes {\n",
       "    width: 60px !important;\n",
       "    margin-left: 5px !important;\n",
       "}\n",
       "\n",
       ".view_zero {\n",
       "    width: 55px !important;\n",
       "}\n",
       "\n",
       ".view_grid {\n",
       "    width: 56px !important;\n",
       "}\n",
       "\n",
       ".view_ortho {\n",
       "    width: 64px !important;\n",
       "}\n",
       "\n",
       ".view_transparent {\n",
       "    width: 125px !important;\n",
       "}\n",
       "\n",
       ".view_black_edges {\n",
       "    width: 105px !important;\n",
       "}\n",
       "\n",
       ".view_button {\n",
       "    padding: 0px !important;\n",
       "}\n",
       "\n",
       ".view_button>img {\n",
       "    height: 28px;\n",
       "    width: 36px;\n",
       "}\n",
       "\n",
       ".node_entry_wrap {\n",
       "    white-space: pre;\n",
       "}\n",
       "\n",
       ".node_entry {\n",
       "    white-space: nowrap;\n",
       "    padding-top: 4px;\n",
       "}\n",
       "\n",
       ".t-caret {\n",
       "    cursor: pointer;\n",
       "    -webkit-user-select: none;\n",
       "    /* Safari 3.1+ */\n",
       "    -moz-user-select: none;\n",
       "    /* Firefox 2+ */\n",
       "    -ms-user-select: none;\n",
       "    /* IE 10+ */\n",
       "    user-select: none;\n",
       "}\n",
       "\n",
       ".t-caret-down::before {\n",
       "    -ms-transform: rotate(90deg);\n",
       "    /* IE 9 */\n",
       "    -webkit-transform: rotate(90deg);\n",
       "    /* Safari */\n",
       "    transform: rotate(90deg);\n",
       "}\n",
       "\n",
       ".toplevel {\n",
       "    list-style-type: none;\n",
       "    padding-inline-start: 0px;\n",
       "}\n",
       "\n",
       ".nested {\n",
       "    display: none;\n",
       "    list-style-type: none;\n",
       "    padding-inline-start: 16px;\n",
       "}\n",
       "\n",
       ".active {\n",
       "    display: block;\n",
       "}\n",
       "\n",
       ".icon {\n",
       "    width: 28px !important;\n",
       "    height: 22px !important;\n",
       "    padding-right: 2px;\n",
       "    vertical-align: middle;\n",
       "}\n",
       "\n",
       ".indent {\n",
       "    margin-left: 12px;\n",
       "}\n",
       "\n",
       ".tree_label {\n",
       "    padding-left: 2px;\n",
       "    font-size: 14px;\n",
       "}\n",
       "\n",
       ".scroll_down {\n",
       "    display: flex;\n",
       "    flex-direction: column-reverse;\n",
       "}\n",
       "\n",
       ".small_table {\n",
       "    line-height: 14px;\n",
       "}\n",
       "\n",
       ".monospace select {\n",
       "    font-family: monospace;\n",
       "}\n",
       "\n",
       "        .t-caret::before {\n",
       "            content: u\"▶\";\n",
       "            font-size: 12px;\n",
       "            color: \"#080808\";\n",
       "            display: inline-block;\n",
       "            margin-right: 2px;\n",
       "        }\n",
       "\n",
       "        .mac-scrollbar::-webkit-scrollbar-thumb {\n",
       "            background-color: rgba(0, 0, 0, 0.2) !important;\n",
       "            border-radius: 100px !important;\n",
       "        }\n",
       "\n",
       "        .mac-scrollbar::-webkit-scrollbar-thumb:hover {\n",
       "            background: rgba(0, 0, 0, 0.4) !important;\n",
       "        }\n",
       "\n",
       "        .mac-scrollbar::-webkit-scrollbar-thumb:active {\n",
       "            background: #181818 !important;\n",
       "        }\n",
       "\n",
       "        .mac-scrollbar::-webkit-scrollbar-corner {\n",
       "            background: white;\n",
       "        }\n",
       "\n",
       "        .view_output {\n",
       "            border: 1px solid var(--jp-border-color1);\n",
       "            margin: 2px 2px 2px 2px !important;\n",
       "            padding-right: 1px !important;\n",
       "            background-color: white;\n",
       "        }\n",
       "    </style>"
      ],
      "text/plain": [
       "<IPython.core.display.HTML object>"
      ]
     },
     "metadata": {},
     "output_type": "display_data"
    }
   ],
   "source": [
    "import cadquery as cq\n",
    "from jupyter_cadquery.cadquery import (PartGroup, Part, Edges, Faces, Vertices, show)\n",
    "from jupyter_cadquery import set_sidecar, set_defaults\n",
    "\n",
    "import alphashape as alph\n",
    "\n",
    "import numpy as np\n",
    "from scipy.ndimage import affine_transform\n",
    "\n",
    "import geojson \n",
    "\n",
    "import makogen as mg\n",
    "\n",
    "set_defaults(default_color=\"#ECF0FF\", axes=False, grid=True,theme=\"light\", axes0=True, ortho=True, transparent=True)\n",
    "set_sidecar(\"CadQuery\", init=True)\n",
    "\n",
    "in2mm = lambda x: x*25.4\n",
    "lzip = lambda *args, **kwargs: list(zip(*args, **kwargs)) \n",
    "\n",
    "def get_poly_verts(poly):\n",
    "    verts = poly.vertices().vals()\n",
    "    coords_x = [v.X for v in verts]\n",
    "    coords_y = [v.Y for v in verts]\n",
    "    return coords_x, coords_y\n",
    "    "
   ]
  },
  {
   "cell_type": "code",
   "execution_count": 141,
   "id": "a802e32e-c6f6-4f35-96ac-06eac546cb8e",
   "metadata": {},
   "outputs": [],
   "source": [
    "from dataclasses import dataclass, asdict, field\n",
    "\n",
    "from makogen import DefaultLayout\n",
    "\n",
    "@dataclass\n",
    "class MakoGenerator():\n",
    "    def set(self, inplace=False, **kwargs):\n",
    "      og_args = asdict(self)\n",
    "      new_args = og_args | kwargs \n",
    "      if not inplace: # return copy \n",
    "          return self.__class__(**new_args)\n",
    "      else:\n",
    "        for key, value in new_args.items():\n",
    "          setattr(self, key, value)\n",
    "        return self\n",
    "\n",
    "@dataclass\n",
    "class StackedLeverless(MakoGenerator):\n",
    "  width:float = in2mm(14)\n",
    "  height:float = in2mm(6)\n",
    "  depth:float = 5\n",
    "  hole_diameter:float = 8\n",
    "  hole_offset:float = 25\n",
    "  hole_deltax:float = 275\n",
    "  hole_deltay:float = 275\n",
    "  fillet_radius:float = 8\n",
    "  switch_mount_dims:float = (14, 14)\n",
    "  keycap_dimensions:float = (19.75, 19.75)\n",
    "  keycap_fillet_radius:float = .5\n",
    "  layout:list[list[int]] = field(default_factory=lambda:list(DefaultLayout), hash=True)\n",
    "    \n",
    "  def base(self):\n",
    "    base = cq.Workplane('XY').box(self.width, self.height, self.depth).edges(\"|Z\").fillet(self.fillet_radius)\n",
    "    \n",
    "    width_left = self.width - self.hole_offset\n",
    "    while width_left > self.hole_diameter or width_left == 0:\n",
    "        base = base.faces(\">Z\").rect(width_left, self.height-self.hole_offset, forConstruction=True).vertices().hole(self.hole_diameter, self.depth*2)\n",
    "        width_left -= self.hole_deltax\n",
    "    \n",
    "    height_left = self.height - self.hole_offset\n",
    "    while height_left > self.hole_diameter or height_left == 0:\n",
    "        base = base.faces(\">Z\").rect(self.width-self.hole_offset, height_left, forConstruction=True).vertices().hole(self.hole_diameter, self.depth*2)\n",
    "        height_left -= self.hole_deltay\n",
    "    \n",
    "    return base\n",
    "    \n",
    "    \n",
    "  def switchplate(self):\n",
    "    # TODO: Error checking? Might be worth checking if the layout is in the bounda\n",
    "    base = self.base()\n",
    "    switch_plate = base.faces(\">Z\").pushPoints(self.layout).rect(*self.switch_mount_dims).cutThruAll()\n",
    "    return switch_plate\n",
    "\n",
    "\n",
    "  def faceplate(self):\n",
    "    base = self.base()\n",
    "    # keebcap_faceplate = base.faces(\">Z\").pushPoints(list(self.layout)).rect(*keebcap_dimensions).cutThruAll()\n",
    "\n",
    "    s = (\n",
    "    cq.Sketch()\n",
    "        .push(list(self.layout))\n",
    "        .rect(*self.keycap_dimensions)\n",
    "        .clean()\n",
    "        .reset()\n",
    "        .vertices()\n",
    "        .fillet(self.keycap_fillet_radius)\n",
    "    )\n",
    "\n",
    "    r = cq.Workplane().placeSketch(s).extrude(self.depth, both=True)\n",
    "    keebcap_faceplate = base.cut(r)\n",
    "\n",
    "    return keebcap_faceplate"
   ]
  },
  {
   "cell_type": "code",
   "execution_count": null,
   "id": "b5dd7668-de13-4c76-8015-beae2d92347e",
   "metadata": {},
   "outputs": [],
   "source": []
  },
  {
   "cell_type": "code",
   "execution_count": null,
   "id": "c5b5ad03-d418-4db5-ae80-261683e8bb34",
   "metadata": {},
   "outputs": [],
   "source": []
  },
  {
   "cell_type": "code",
   "execution_count": 146,
   "id": "c689b902-d666-4d70-ba0a-151dc7c75302",
   "metadata": {},
   "outputs": [
    {
     "name": "stdout",
     "output_type": "stream",
     "text": [
      "Done, using side car 'Cadquery'\n"
     ]
    }
   ],
   "source": []
  },
  {
   "cell_type": "code",
   "execution_count": 50,
   "id": "2487c165-db6a-4943-b7e3-02f90cd95f0a",
   "metadata": {},
   "outputs": [
    {
     "data": {
      "text/plain": [
       "{'val1': 10, 'val2': 20}"
      ]
     },
     "execution_count": 50,
     "metadata": {},
     "output_type": "execute_result"
    }
   ],
   "source": [
    "\n",
    "@dataclass()\n",
    "class test():\n",
    "    val1:float = 10\n",
    "    val2:float = 20\n",
    "    \n",
    "asdict(test())"
   ]
  },
  {
   "cell_type": "markdown",
   "id": "91d223d6-8cb1-4a85-84bf-abc1699495b9",
   "metadata": {},
   "source": [
    "## Bottom Plate"
   ]
  },
  {
   "cell_type": "code",
   "execution_count": 90,
   "id": "f5ac535a-da74-49d4-8f79-8d1d7eeefbb0",
   "metadata": {},
   "outputs": [
    {
     "data": {
      "text/plain": [
       "\u001b[0;31mSignature:\u001b[0m\n",
       "\u001b[0mfield\u001b[0m\u001b[0;34m(\u001b[0m\u001b[0;34m\u001b[0m\n",
       "\u001b[0;34m\u001b[0m    \u001b[0;34m*\u001b[0m\u001b[0;34m,\u001b[0m\u001b[0;34m\u001b[0m\n",
       "\u001b[0;34m\u001b[0m    \u001b[0mdefault\u001b[0m\u001b[0;34m=\u001b[0m\u001b[0;34m<\u001b[0m\u001b[0mdataclasses\u001b[0m\u001b[0;34m.\u001b[0m\u001b[0m_MISSING_TYPE\u001b[0m \u001b[0mobject\u001b[0m \u001b[0mat\u001b[0m \u001b[0;36m0x79a79c7818b0\u001b[0m\u001b[0;34m>\u001b[0m\u001b[0;34m,\u001b[0m\u001b[0;34m\u001b[0m\n",
       "\u001b[0;34m\u001b[0m    \u001b[0mdefault_factory\u001b[0m\u001b[0;34m=\u001b[0m\u001b[0;34m<\u001b[0m\u001b[0mdataclasses\u001b[0m\u001b[0;34m.\u001b[0m\u001b[0m_MISSING_TYPE\u001b[0m \u001b[0mobject\u001b[0m \u001b[0mat\u001b[0m \u001b[0;36m0x79a79c7818b0\u001b[0m\u001b[0;34m>\u001b[0m\u001b[0;34m,\u001b[0m\u001b[0;34m\u001b[0m\n",
       "\u001b[0;34m\u001b[0m    \u001b[0minit\u001b[0m\u001b[0;34m=\u001b[0m\u001b[0;32mTrue\u001b[0m\u001b[0;34m,\u001b[0m\u001b[0;34m\u001b[0m\n",
       "\u001b[0;34m\u001b[0m    \u001b[0mrepr\u001b[0m\u001b[0;34m=\u001b[0m\u001b[0;32mTrue\u001b[0m\u001b[0;34m,\u001b[0m\u001b[0;34m\u001b[0m\n",
       "\u001b[0;34m\u001b[0m    \u001b[0mhash\u001b[0m\u001b[0;34m=\u001b[0m\u001b[0;32mNone\u001b[0m\u001b[0;34m,\u001b[0m\u001b[0;34m\u001b[0m\n",
       "\u001b[0;34m\u001b[0m    \u001b[0mcompare\u001b[0m\u001b[0;34m=\u001b[0m\u001b[0;32mTrue\u001b[0m\u001b[0;34m,\u001b[0m\u001b[0;34m\u001b[0m\n",
       "\u001b[0;34m\u001b[0m    \u001b[0mmetadata\u001b[0m\u001b[0;34m=\u001b[0m\u001b[0;32mNone\u001b[0m\u001b[0;34m,\u001b[0m\u001b[0;34m\u001b[0m\n",
       "\u001b[0;34m\u001b[0m\u001b[0;34m)\u001b[0m\u001b[0;34m\u001b[0m\u001b[0;34m\u001b[0m\u001b[0m\n",
       "\u001b[0;31mDocstring:\u001b[0m\n",
       "Return an object to identify dataclass fields.\n",
       "\n",
       "default is the default value of the field.  default_factory is a\n",
       "0-argument function called to initialize a field's value.  If init\n",
       "is True, the field will be a parameter to the class's __init__()\n",
       "function.  If repr is True, the field will be included in the\n",
       "object's repr().  If hash is True, the field will be included in\n",
       "the object's hash().  If compare is True, the field will be used\n",
       "in comparison functions.  metadata, if specified, must be a\n",
       "mapping which is stored but not otherwise examined by dataclass.\n",
       "\n",
       "It is an error to specify both default and default_factory.\n",
       "\u001b[0;31mFile:\u001b[0m      ~/anaconda3/envs/cadquery/lib/python3.9/dataclasses.py\n",
       "\u001b[0;31mType:\u001b[0m      function\n"
      ]
     },
     "metadata": {},
     "output_type": "display_data"
    }
   ],
   "source": [
    "field?"
   ]
  },
  {
   "cell_type": "code",
   "execution_count": 91,
   "id": "be6b76ab-bab8-4b4e-b844-036232f169c9",
   "metadata": {},
   "outputs": [],
   "source": [
    "# widthmm = in2mm(14)\n",
    "# heightmm = in2mm(6)\n",
    "# depthmm = 5\n",
    "# screwhole_diameter = 8\n",
    "\n",
    "# dowel_offset = 60\n",
    "# dowel_width = 20\n",
    "\n",
    "# bolt_offset = 25\n",
    "# # bolt_deltax = (widthmm-bolt_offset)/2\n",
    "# # bolt_deltay = (heightmm-bolt_offset)\n",
    "# bolt_deltax = 275\n",
    "# bolt_deltay = 275\n",
    "\n",
    "# # base \n",
    "# base = cq.Workplane('XY').box(widthmm, heightmm, depthmm).edges(\"|Z\").fillet(7)\n",
    "\n",
    "# # dowel_slots = cq.Workplane('XY').rect(widthmm, heightmm-dowel_offset, forConstruction=True).vertices().box(dowel_width, depthmm, depthmm)\n",
    "# # dowel_slots = dowel_slots.workplane().rect(widthmm-dowel_offset, heightmm, forConstruction=True).vertices().box(depthmm, dowel_width, depthmm)\n",
    "\n",
    "\n",
    "# width_left = widthmm - bolt_offset\n",
    "# while width_left > screwhole_diameter or width_left == 0:\n",
    "#     base = base.faces(\">Z\").rect(width_left, heightmm-bolt_offset, forConstruction=True).vertices().hole(screwhole_diameter, depthmm*2)\n",
    "#     width_left -= bolt_deltax\n",
    "\n",
    "# height_left = heightmm - bolt_offset\n",
    "# while height_left > screwhole_diameter or height_left == 0:\n",
    "#     print(\"cutting: \", height_left)\n",
    "#     base = base.faces(\">Z\").rect(widthmm-bolt_offset, height_left, forConstruction=True).vertices().hole(screwhole_diameter, depthmm*2)\n",
    "#     height_left -= bolt_deltay\n",
    "    \n",
    "# base"
   ]
  },
  {
   "cell_type": "code",
   "execution_count": null,
   "id": "edeb9002-9c75-49e7-a4a0-969c109cb6fb",
   "metadata": {},
   "outputs": [],
   "source": []
  },
  {
   "cell_type": "markdown",
   "id": "d16cc426-aac0-47f5-8a32-6a8a8d31a0af",
   "metadata": {},
   "source": [
    "## Hollow Plate"
   ]
  },
  {
   "cell_type": "code",
   "execution_count": null,
   "id": "e1e68eb3-88de-45ed-9dfa-6bdbb83fe29e",
   "metadata": {},
   "outputs": [],
   "source": []
  },
  {
   "cell_type": "code",
   "execution_count": 8,
   "id": "073021e2-f4e1-496f-948b-9b76aa9a7de7",
   "metadata": {},
   "outputs": [
    {
     "name": "stdout",
     "output_type": "stream",
     "text": [
      "Done, using side car 'Cadquery'\n"
     ]
    }
   ],
   "source": [
    "eightbutton_coords = [(-26.15, -11.75), (0,0), (26.65, -3.2), (53.3, -19.45), \n",
    "                        (-26.15, -33.75), (0, -22), (26.65, -25.2), (53.3, -41.45)]\n",
    "  \n",
    "# the four buttons for directionals is just the first 4 buttons reflected along the Y axis\n",
    "fourbutton_coords = np.matmul(eightbutton_coords[4:], [[-1, 0], [0, 1]])\n",
    "  \n",
    "cstick_coords = [(0,0), (-18.5, -12.75), (0, 25.5), (-18.5, 12.75), (18.5, 12.75)]\n",
    "# modifier buttons are just the first two cstick buttons reflected along the Y axis\n",
    "modifier_coords = np.matmul(cstick_coords[:2], [[-1, 0], [0, 1]])\n",
    "startbutton_coords = [(0,0)]\n",
    "startgccmx_coords = [(-22, 0), (0,0), (22, 0)]\n",
    "\n",
    "\n",
    "eightbutton_center = (100, 58)\n",
    "fourbutton_center = (-100, 58)\n",
    "modifier_center = (-70, -45)\n",
    "cstick_center = (70, -45)\n",
    "startbutton_center = (0, 18)\n",
    "\n",
    "# for whatever reason, trying to cut everything at once causes an error,\n",
    "# so we have to do it one at a time\n",
    "eightbutton_layout = np.add(eightbutton_coords, eightbutton_center)  \n",
    "fourbutton_layout = np.add(fourbutton_coords, fourbutton_center)\n",
    "modifier_layout = np.add(modifier_coords, modifier_center)\n",
    "cstick_layout = np.add(cstick_coords, cstick_center)\n",
    "startbutton_layout = np.add(startbutton_coords, startbutton_center)\n",
    "\n",
    "complete_layout = np.concatenate([eightbutton_layout, fourbutton_layout, modifier_layout, cstick_layout, startbutton_layout], axis=0)\n",
    "\n",
    "cap_diameter = 22.5\n",
    "\n",
    "s1 = (\n",
    "    cq.Sketch()\n",
    "    .push(eightbutton_layout.tolist())\n",
    "    .circle(cap_diameter/2)\n",
    "    .clean()\n",
    "    .reset()\n",
    "    .vertices()\n",
    "    .fillet(.5)\n",
    ")\n",
    "\n",
    "s2 = (\n",
    "    cq.Sketch()\n",
    "    .push(cstick_layout.tolist())\n",
    "    .circle(cap_diameter/2)\n",
    "    .clean()\n",
    "    .reset()\n",
    "    .vertices()\n",
    "    .fillet(.5)\n",
    ")\n",
    "\n",
    "s3 = (\n",
    "    cq.Sketch()\n",
    "    .push(modifier_layout.tolist())\n",
    "    .circle(cap_diameter/2)\n",
    "    .clean()\n",
    "    .reset()\n",
    "    .vertices()\n",
    "    .fillet(.5)\n",
    ")\n",
    "\n",
    "s4 = (\n",
    "    cq.Sketch()\n",
    "    .push(fourbutton_layout.tolist())\n",
    "    .circle(cap_diameter/2)\n",
    "    .clean()\n",
    ")\n",
    "\n",
    "s5 = (\n",
    "    cq.Sketch()\n",
    "    .push(startbutton_layout.tolist())\n",
    "    .circle(cap_diameter/2)\n",
    "    .clean()\n",
    ")\n",
    "\n",
    "import sys\n",
    "r = cq.Workplane().placeSketch(s1, s2, s3, s4, s5).extrude(10e3, both=True)\n",
    "f1cap_faceplate = base.cut(r)\n",
    "f1cap_faceplate"
   ]
  },
  {
   "cell_type": "markdown",
   "id": "54bc90c2-414d-4503-8cd0-615be3a0d522",
   "metadata": {},
   "source": [
    "# Keeb Cap Faceplate"
   ]
  },
  {
   "cell_type": "code",
   "execution_count": 7,
   "id": "9207a4cf-200f-45bf-b6cf-baed4e142759",
   "metadata": {},
   "outputs": [
    {
     "name": "stdout",
     "output_type": "stream",
     "text": [
      "Done, using side car 'Cadquery'\n"
     ]
    }
   ],
   "source": [
    "keebcap_dimensions = (19.5, 19.5)\n",
    "\n",
    "keebcap_faceplate = base.faces(\">Z\").pushPoints(complete_layout).rect(*keebcap_dimensions).cutThruAll()\n",
    "\n",
    "s = (\n",
    "    cq.Sketch()\n",
    "    .push(complete_layout.tolist())\n",
    "    .rect(*keebcap_dimensions)\n",
    "    .clean()\n",
    "    .reset()\n",
    "    .vertices()\n",
    "    .fillet(2)\n",
    ")\n",
    "\n",
    "r = cq.Workplane().placeSketch(s).extrude(depthmm, both=True)\n",
    "keebcap_faceplate = base.cut(r)\n",
    "\n",
    "keebcap_faceplate"
   ]
  },
  {
   "cell_type": "code",
   "execution_count": 12,
   "id": "eb82aa55-b1a3-4141-8fc2-c1b269e83828",
   "metadata": {},
   "outputs": [
    {
     "data": {
      "text/plain": [
       "array([[  73.85,   46.25],\n",
       "       [ 100.  ,   58.  ],\n",
       "       [ 126.65,   54.8 ],\n",
       "       [ 153.3 ,   38.55],\n",
       "       [  73.85,   24.25],\n",
       "       [ 100.  ,   36.  ],\n",
       "       [ 126.65,   32.8 ],\n",
       "       [ 153.3 ,   16.55],\n",
       "       [ -73.85,   24.25],\n",
       "       [-100.  ,   36.  ],\n",
       "       [-126.65,   32.8 ],\n",
       "       [-153.3 ,   16.55],\n",
       "       [ -70.  ,  -45.  ],\n",
       "       [ -51.5 ,  -57.75],\n",
       "       [  70.  ,  -45.  ],\n",
       "       [  51.5 ,  -57.75],\n",
       "       [  70.  ,  -19.5 ],\n",
       "       [  51.5 ,  -32.25],\n",
       "       [  88.5 ,  -32.25],\n",
       "       [   0.  ,   18.  ]])"
      ]
     },
     "execution_count": 12,
     "metadata": {},
     "output_type": "execute_result"
    }
   ],
   "source": [
    "complete_layout"
   ]
  },
  {
   "cell_type": "markdown",
   "id": "9e8d7181-6c0d-4ae3-bb56-e4a23e9dee8f",
   "metadata": {},
   "source": [
    "# Switch Plate"
   ]
  },
  {
   "cell_type": "code",
   "execution_count": 11,
   "id": "f56a256b-388a-4ba3-8901-5d176dba92b9",
   "metadata": {},
   "outputs": [
    {
     "ename": "NameError",
     "evalue": "name 'base' is not defined",
     "output_type": "error",
     "traceback": [
      "\u001b[0;31m---------------------------------------------------------------------------\u001b[0m",
      "\u001b[0;31mNameError\u001b[0m                                 Traceback (most recent call last)",
      "\u001b[0;32m/tmp/ipykernel_5128/2925500399.py\u001b[0m in \u001b[0;36m<module>\u001b[0;34m\u001b[0m\n\u001b[1;32m      1\u001b[0m \u001b[0mswitch_mount_dimensions\u001b[0m \u001b[0;34m=\u001b[0m \u001b[0;34m(\u001b[0m\u001b[0;36m14\u001b[0m\u001b[0;34m,\u001b[0m \u001b[0;36m14\u001b[0m\u001b[0;34m)\u001b[0m\u001b[0;34m\u001b[0m\u001b[0;34m\u001b[0m\u001b[0m\n\u001b[1;32m      2\u001b[0m \u001b[0;34m\u001b[0m\u001b[0m\n\u001b[0;32m----> 3\u001b[0;31m \u001b[0mswitch_plate\u001b[0m \u001b[0;34m=\u001b[0m \u001b[0mbase\u001b[0m\u001b[0;34m.\u001b[0m\u001b[0mfaces\u001b[0m\u001b[0;34m(\u001b[0m\u001b[0;34m\">Z\"\u001b[0m\u001b[0;34m)\u001b[0m\u001b[0;34m.\u001b[0m\u001b[0mpushPoints\u001b[0m\u001b[0;34m(\u001b[0m\u001b[0mcomplete_layout\u001b[0m\u001b[0;34m)\u001b[0m\u001b[0;34m.\u001b[0m\u001b[0mrect\u001b[0m\u001b[0;34m(\u001b[0m\u001b[0;34m*\u001b[0m\u001b[0mswitch_mount_dimensions\u001b[0m\u001b[0;34m)\u001b[0m\u001b[0;34m.\u001b[0m\u001b[0mcutThruAll\u001b[0m\u001b[0;34m(\u001b[0m\u001b[0;34m)\u001b[0m\u001b[0;34m\u001b[0m\u001b[0;34m\u001b[0m\u001b[0m\n\u001b[0m\u001b[1;32m      4\u001b[0m \u001b[0mswitch_plate\u001b[0m\u001b[0;34m\u001b[0m\u001b[0;34m\u001b[0m\u001b[0m\n",
      "\u001b[0;31mNameError\u001b[0m: name 'base' is not defined"
     ]
    }
   ],
   "source": [
    "switch_mount_dimensions = (14, 14)\n",
    "\n",
    "switch_plate = base.faces(\">Z\").pushPoints(complete_layout).rect(*switch_mount_dimensions).cutThruAll()\n",
    "switch_plate"
   ]
  },
  {
   "cell_type": "code",
   "execution_count": 9,
   "id": "bb3c1380-a974-474b-9eab-4a8033da5bc1",
   "metadata": {},
   "outputs": [],
   "source": [
    "modelu = cq.importers.importStep('/home/otacon/repos/Model-U/src/Model-U.step')\n",
    "modelu_footprint = modelu.faces(\">Z\").wires(\"not (>X or <X)\").toPending().extrude(depthmm, both=True)\n"
   ]
  },
  {
   "cell_type": "code",
   "execution_count": 10,
   "id": "2bf14e86-6c3c-4218-9f47-37c8d3f67fa9",
   "metadata": {},
   "outputs": [
    {
     "name": "stdout",
     "output_type": "stream",
     "text": [
      "-160.3 160.3 -64.75 65.0\n"
     ]
    }
   ],
   "source": [
    "magnet_diameter = 11\n",
    "\n",
    "pico_width = 21\n",
    "pico_height = 53\n",
    "\n",
    "usbc_width = 19.5\n",
    "usbc_height = 44\n",
    "usbc_mount_width = 28\n",
    "usbc_mount_height = 9\n",
    "\n",
    "left_handrest_dim = (68, 79)\n",
    "right_handrest_dim = (68, 79)\n",
    "left_handrest_center = (-130, -30)\n",
    "right_handrest_center = (130, -30)\n",
    "\n",
    "left_corner_dim = (40, 30)\n",
    "right_corner_dim = (40, 30)\n",
    "\n",
    "# cadquery is making getting the bbox coords hard for all the rects, so I am  going around it\n",
    "vertices = base.faces(\">Z\").pushPoints(complete_layout).rect(*switch_mount_dimensions).vertices().vals()\n",
    "coords_x = [v.X for v in vertices]\n",
    "coords_y = [v.Y for v in vertices]\n",
    "minx = min(coords_x)\n",
    "maxx = max(coords_x)\n",
    "miny = min(coords_y)\n",
    "maxy = max(coords_y)\n",
    "print(minx, maxx, miny, maxy)\n",
    "\n",
    "usbc_slot = cq.Workplane('XY').hLine(usbc_mount_width/2).vLine(-usbc_mount_height).hLine(-(usbc_mount_width-usbc_width)/2).vLine(-1*(usbc_height-usbc_mount_height)).hLineTo(0).mirrorY()\n",
    "pico_slot = cq.Workplane('XY').rect(pico_width, pico_height)\n",
    "gcc_cable_slot = cq.Workplane('XY').rect(13, usbc_height+5).extrude(depthmm, both=True).translate((0, heightmm/2, 0))\n",
    "modelu_slot = modelu_footprint.translate((0,heightmm/2-5, 0))\n",
    "\n",
    "# # extrude \n",
    "# usbc_poly = usbc_slot.offset2D(1, kind=\"intersection\").extrude(depthmm, both=True).translate((40, heightmm/2-1, 0))\n",
    "# cavity = cq.Workplane(\"XY\").rect(maxx-minx, maxy-miny).extrude(depthmm, both=True).translate((0, 0))\n",
    "# left_handrest =  cq.Workplane(\"XY\").rect(*left_handrest_dim).extrude(depthmm, both=True).translate(left_handrest_center)\n",
    "# right_handrest =  cq.Workplane(\"XY\").rect(*right_handrest_dim).extrude(depthmm, both=True).translate(right_handrest_center)\n",
    "# left_corner = cq.Workplane(\"XY\").rect(*left_corner_dim).extrude(depthmm, both=True).translate((minx, maxy))\n",
    "# right_corner = cq.Workplane(\"XY\").rect(*right_corner_dim).extrude(depthmm, both=True).translate((maxx, maxy))\n",
    "\n",
    "\n",
    "# cavity = cavity.cut(left_handrest).cut(right_handrest).cut(left_corner).cut(right_corner)\n",
    "# wiring_cavity = base.cut(gcc_cable_slot).cut(modelu_slot).cut(cavity)\n",
    "# wiring_cavity"
   ]
  },
  {
   "cell_type": "code",
   "execution_count": 11,
   "id": "0676589e-98b3-4301-96e9-ac672b456ee2",
   "metadata": {},
   "outputs": [
    {
     "name": "stdout",
     "output_type": "stream",
     "text": [
      "Done, using side car 'Cadquery'\n"
     ]
    }
   ],
   "source": [
    "usbc_slot = cq.Workplane('XY').hLine(usbc_mount_width/2).vLine(-usbc_mount_height).hLine(-(usbc_mount_width-usbc_width)/2).vLine(-1*(usbc_height-usbc_mount_height)).hLineTo(0).mirrorY()\n",
    "usbc_poly = usbc_slot.offset2D(.1, kind=\"intersection\").extrude(depthmm, both=True).translate((40, heightmm/2-1, 0))\n",
    "usbc_poly"
   ]
  },
  {
   "cell_type": "code",
   "execution_count": 12,
   "id": "d217d898-29b8-43f9-bb39-43277c761227",
   "metadata": {},
   "outputs": [],
   "source": [
    "modelu = cq.importers.importStep('/home/otacon/repos/Model-U/src/Model-U.step')\n",
    "modelu_footprint = modelu.faces(\">Z\").wires(\"not (>X or <X)\").toPending().extrude(depthmm, both=True)\n"
   ]
  },
  {
   "cell_type": "code",
   "execution_count": 13,
   "id": "dbf71a11-30ff-40e0-92d5-c6755863b932",
   "metadata": {},
   "outputs": [
    {
     "name": "stdout",
     "output_type": "stream",
     "text": [
      "Done, using side car 'Cadquery'\n"
     ]
    }
   ],
   "source": [
    "modelu.faces(\">Z\").wires(\"not (>X or <X)\")"
   ]
  },
  {
   "cell_type": "code",
   "execution_count": 14,
   "id": "6b72cbbf-a9b9-485e-9a2a-0781522496e7",
   "metadata": {},
   "outputs": [],
   "source": [
    "# slot = cq.Workplane(\"XY\")\n",
    "\n",
    "# show(modelu.translate((0, 6.75)), slot)"
   ]
  },
  {
   "cell_type": "code",
   "execution_count": 21,
   "id": "f01cd977-539d-437b-a7c1-df5178dbba0a",
   "metadata": {},
   "outputs": [
    {
     "name": "stdout",
     "output_type": "stream",
     "text": [
      "cutting:  127.39999999999998\n",
      "Done, using side car 'Cadquery'\n"
     ]
    },
    {
     "data": {
      "text/plain": [
       "<jupyter_cadquery.cad_display.CadqueryDisplay at 0x7ff0e9375ca0>"
      ]
     },
     "execution_count": 21,
     "metadata": {},
     "output_type": "execute_result"
    }
   ],
   "source": [
    "def create_base(width=in2mm(14), height=in2mm(6), depth = 5, hole_diameter=8, hole_offset = 25, hole_deltax=275, hole_deltay=275, fillet_radius=5):\n",
    "  \"\"\"\n",
    "  create_base _summary_\n",
    "\n",
    "  _extended_summary_\n",
    "\n",
    "  Parameters\n",
    "  ----------\n",
    "  width : _type_, optional\n",
    "      _description_, by default in2mm(14.5)\n",
    "  height : _type_, optional\n",
    "      _description_, by default in2mm(7)\n",
    "  depth : int, optional\n",
    "      _description_, by default 5\n",
    "  hole_diameter : int, optional\n",
    "      _description_, by default 8\n",
    "  hole_offset : int, optional\n",
    "      _description_, by default 25\n",
    "  hole_deltax : int, optional\n",
    "      _description_, by default 300\n",
    "  hole_deltay : int, optional\n",
    "      _description_, by default 300\n",
    "  fillet_radius : int, optional\n",
    "      _description_, by default 5\n",
    "\n",
    "  Returns\n",
    "  -------\n",
    "  _type_\n",
    "      _description_\n",
    "  \"\"\"\n",
    "  #dowel_offset = 60\n",
    "  #dowel_width = 20\n",
    "  \n",
    "  # based on \n",
    "  center_hole_spacing = 50 \n",
    "\n",
    "  # base \n",
    "  base = cq.Workplane('XY').box(width, height, depth).edges(\"|Z\").fillet(fillet_radius)\n",
    "\n",
    "  width_left = width - hole_offset\n",
    "  while width_left > hole_diameter or width_left == 0:\n",
    "      base = base.faces(\">Z\").rect(width_left, height-hole_offset, forConstruction=True).vertices().hole(hole_diameter, depth*2)\n",
    "      width_left -= hole_deltax\n",
    "  \n",
    "  height_left = height - hole_offset\n",
    "  while height_left > hole_diameter or height_left == 0:\n",
    "      print(\"cutting: \", height_left)\n",
    "      base = base.faces(\">Z\").rect(width-hole_offset, height_left, forConstruction=True).vertices().hole(hole_diameter, depth*2)\n",
    "      height_left -= hole_deltay\n",
    "\n",
    "  return base\n",
    "\n",
    "\n",
    "def make_wiring_layer(cable_xoffet:float=0, usbc_offset:float=1, usbc_buffer_width:float=40, usbc_buffer_height:float=28.5, cavity):\n",
    "    cavity_offset = 20\n",
    "    bolt_cover_width = 20\n",
    "    bolt_cover_height = 20\n",
    "\n",
    "    newbase = create_base()\n",
    "    cavity_poly = cq.Workplane('XY').box(widthmm-cavity_offset, heightmm-cavity_offset, depthmm)\n",
    "\n",
    "    corners = cq.Workplane(\"XY\")\n",
    "    width_left = widthmm - bolt_offset\n",
    "    while width_left > screwhole_diameter or width_left == 0:\n",
    "        corners = corners.rect(width_left, heightmm-bolt_offset, forConstruction=True).vertices().box(bolt_cover_width, bolt_cover_height, depthmm)\n",
    "        width_left -= bolt_deltax\n",
    "\n",
    "# height_left = heightmm - bolt_offset\n",
    "# while height_left > screwhole_diameter or height_left == 0:\n",
    "#     print(\"cutting: \", height_left)\n",
    "#     base = base.faces(\">Z\").rect(widthmm-bolt_offset, height_left, forConstruction=True).vertices().hole(screwhole_diameter, depthmm*2)\n",
    "#     height_left -= bolt_deltay\n",
    "\n",
    "modelu_slot = (\n",
    "    cq.Sketch()\n",
    "    .rect(20+1, 13.5+1)\n",
    "    .edges(\">Y\")\n",
    "    .clean().reset()\n",
    "    .vertices(\">Y\")\n",
    "    .fillet(5)\n",
    "    .clean()\n",
    ")\n",
    "\n",
    "modelu_slot = cq.Workplane(\"XY\").placeSketch(modelu_slot).extrude(depthmm/2, both=True)\n",
    "modelu_slot = modelu_slot.translate((cable_xoffset, heightmm/2-((13.5+1)/2)-usbc_depth))\n",
    "cable_buffer = cq.Workplane(\"XY\").box(usbc_buffer_width, usbc_buffer_height, depthmm).translate((cable_xoffset, heightmm/2-((13.5+1)/2)-usbc_depth))\n",
    "# modelu_slot = modelu_slot.translate((cable_xoffset, heightmm/2-((13.5+1)/2)-usbc_depth))\n",
    "\n",
    "gcc_cable_slot = cq.Workplane('XY').rect(13, usbc_buffer_height).extrude(depthmm/2, both=True).translate((cable_xoffset, heightmm/2-((13.5+1)/2)-usbc_depth))\n",
    "\n",
    "wiring_cavity = base.cut(cavity_poly.cut(corners)).edges(\"|Z\").fillet(2)\n",
    "wiring_cavity = wiring_cavity.union(base.intersect(cable_buffer))\n",
    "\n",
    "try:\n",
    "    wiring_cavity = wiring_cavity.cut(gcc_cable_slot).edges(\"|Z\").fillet(1)\n",
    "except Exception as e:\n",
    "    wiring_cavity = wiring_cavity.cut(gcc_cable_slot)\n",
    "\n",
    "wiring_cavity = wiring_cavity.cut(modelu_slot)\n",
    "\n",
    "show(wiring_cavity)"
   ]
  },
  {
   "cell_type": "markdown",
   "id": "94b9973e-c075-4922-92ae-5fd2a25a9bf5",
   "metadata": {},
   "source": []
  },
  {
   "cell_type": "code",
   "execution_count": 16,
   "id": "83683b84-6e9d-43ca-afc6-ef4568ef66bc",
   "metadata": {},
   "outputs": [],
   "source": [
    "# magplate = base.faces(\">Z\").rect(maxx-minx-magnet_diameter, maxy-miny-magnet_diameter, forConstruction=True).vertices().circle(screwhole_diameter/2)\n",
    "\n",
    "# magplate = magplate.cutThruAll()\n",
    "# magplate"
   ]
  },
  {
   "cell_type": "code",
   "execution_count": 17,
   "id": "a5715a0a-eb9c-49f9-b894-62fd03e951f9",
   "metadata": {},
   "outputs": [
    {
     "name": "stdout",
     "output_type": "stream",
     "text": [
      "Done, using side car 'Cadquery'\n"
     ]
    },
    {
     "data": {
      "text/plain": [
       "<jupyter_cadquery.cad_display.CadqueryDisplay at 0x7ff0e9375ca0>"
      ]
     },
     "execution_count": 17,
     "metadata": {},
     "output_type": "execute_result"
    }
   ],
   "source": [
    "cardboardmx = PartGroup(\n",
    "    [\n",
    "        # Part(cq.importers.importsvg('/mnt/chromeos/MyFiles/Downloads/3_SwitchPlate_v2.svg').rotateAboutCenter((0,0,1), 180).translate((223.1, -181.25, 0)) ),\n",
    "        Part(base, \"bottom\"),\n",
    "        # Part(wiring_cavity.translate((0,0,depthmm*1)), \"pcb_holder2\"),\n",
    "        Part(wiring_cavity.translate((0,0,depthmm*1)), \"pcb_holder\", color=\"black\"),\n",
    "        Part(switch_plate.translate((0,0,depthmm*2)), \"switchplate2\", color=\"black\"),\n",
    "        Part(f1cap_faceplate.translate((0,0,depthmm*3)), \"faceplate1\"),\n",
    "        # Part(dowel.translate((widthmm/2-dowel_width/4,heightmm/2-dowel_offset/2, 10)), \"dowel\")\n",
    "\n",
    "    ],\n",
    "    \"carboardMX\"\n",
    ")\n",
    "\n",
    "show(cardboardmx, default_color=\"blue\")"
   ]
  },
  {
   "cell_type": "code",
   "execution_count": null,
   "id": "e0af99fb-3c90-4ee4-9a6d-13e841eea69f",
   "metadata": {},
   "outputs": [],
   "source": [
    "#### from cadquery import exporters\n",
    "\n",
    "exporters.export(base.edges(\">Z\"), \"artifacts/bottom.dxf\")\n",
    "exporters.export(wiring_cavity.edges(\">Z\"), \"artifacts/pcb_layer_1.dxf\")\n",
    "# exporters.export(wiring_cavity_last_layer.edges(\">Z\"), \"artifacts/pcb_layer_2.dxf\")\n",
    "exporters.export(switch_plate.edges(\">Z\"), \"artifacts/switch_plate.dxf\")\n",
    "exporters.export(keebcap_faceplate.edges(\">Z\"), \"artifacts/keebcap_faceplate.dxf\")\n",
    "exporters.export(f1cap_faceplate.edges(\">Z\"), \"artifacts/f1_cap_faceplate.dxf\")\n",
    "# exporters.export(dowel.edges(\">Z\"), \"artifacts/dowel.dxf\")"
   ]
  },
  {
   "cell_type": "code",
   "execution_count": null,
   "id": "c339f3d6-bd5a-4303-aaad-13380a333494",
   "metadata": {},
   "outputs": [],
   "source": [
    "# exporters.export(cardboardmx, \"artifacts/controller.svg\")"
   ]
  },
  {
   "cell_type": "code",
   "execution_count": 1022,
   "id": "68f9507f-bb1b-40df-954b-c2fc148ca31b",
   "metadata": {},
   "outputs": [],
   "source": [
    "# dir(cardboardmx)"
   ]
  },
  {
   "cell_type": "code",
   "execution_count": null,
   "id": "bf8fbc96-c21e-4d0f-9758-299f17135677",
   "metadata": {},
   "outputs": [],
   "source": []
  },
  {
   "cell_type": "code",
   "execution_count": null,
   "id": "ebda1c39-7a3c-490d-b627-44e571903fa4",
   "metadata": {},
   "outputs": [],
   "source": []
  },
  {
   "cell_type": "code",
   "execution_count": null,
   "id": "e50fb565-251b-409a-ae7e-504a3ce37201",
   "metadata": {},
   "outputs": [],
   "source": []
  },
  {
   "cell_type": "code",
   "execution_count": null,
   "id": "d8c63e72-6828-45fb-9989-4103096ced53",
   "metadata": {},
   "outputs": [],
   "source": []
  }
 ],
 "metadata": {
  "kernelspec": {
   "display_name": "Python 3 (ipykernel)",
   "language": "python",
   "name": "python3"
  },
  "language_info": {
   "codemirror_mode": {
    "name": "ipython",
    "version": 3
   },
   "file_extension": ".py",
   "mimetype": "text/x-python",
   "name": "python",
   "nbconvert_exporter": "python",
   "pygments_lexer": "ipython3",
   "version": "3.9.9"
  }
 },
 "nbformat": 4,
 "nbformat_minor": 5
}
